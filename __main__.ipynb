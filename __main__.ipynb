{
 "cells": [
  {
   "cell_type": "markdown",
   "metadata": {},
   "source": [
    "# Song recommender"
   ]
  },
  {
   "cell_type": "code",
   "execution_count": null,
   "metadata": {},
   "outputs": [],
   "source": []
  },
  {
   "cell_type": "code",
   "execution_count": 1,
   "metadata": {},
   "outputs": [],
   "source": [
    "import pandas as pd\n",
    "import numpy as np\n",
    "import scraping as sc\n",
    "import helper_functions as hf\n",
    "import data_handler as dh\n",
    "import spotifyhandler as sh\n",
    "import spotipy\n",
    "import pickle\n",
    "from tqdm.auto import tqdm\n",
    "import modelling\n",
    "\n",
    "from matplotlib import pyplot\n",
    "from sklearn.metrics import silhouette_score\n",
    "\n",
    "from sklearn.cluster import KMeans\n",
    "from sklearn.preprocessing import StandardScaler\n",
    "from yellowbrick.cluster import SilhouetteVisualizer"
   ]
  },
  {
   "cell_type": "code",
   "execution_count": 2,
   "metadata": {},
   "outputs": [],
   "source": [
    "# Run Marker\n",
    "update_bb_top100 = False\n",
    "update_wiki_artist = False\n",
    "update_song_list = False\n",
    "update_audio_features = False\n",
    "create_words_list = False\n",
    "train_kmean = True"
   ]
  },
  {
   "cell_type": "code",
   "execution_count": 3,
   "metadata": {},
   "outputs": [],
   "source": [
    "# Load existing files\n"
   ]
  },
  {
   "cell_type": "code",
   "execution_count": 4,
   "metadata": {},
   "outputs": [],
   "source": [
    "#sc.recommend_song()"
   ]
  },
  {
   "cell_type": "code",
   "execution_count": 5,
   "metadata": {},
   "outputs": [],
   "source": [
    "if update_wiki_artist:\n",
    "    artist_Series = sc.load_or_scrape('wiki_artist')['artists']\n",
    "    artist_list = list(artist_Series)"
   ]
  },
  {
   "cell_type": "code",
   "execution_count": 6,
   "metadata": {},
   "outputs": [],
   "source": [
    "if update_song_list:\n",
    "    song_list = sh.search_songs(artist_list)\n",
    "    len(song_list)"
   ]
  },
  {
   "cell_type": "code",
   "execution_count": 7,
   "metadata": {},
   "outputs": [],
   "source": [
    "if create_words_list:\n",
    "    print('create words list')\n",
    "    words_list = hf.txt_to_list('data/speeches.txt')\n",
    "    len(words_list)"
   ]
  },
  {
   "cell_type": "code",
   "execution_count": 8,
   "metadata": {},
   "outputs": [],
   "source": [
    "if create_words_list:    \n",
    "    song_list_update = sh.search_songs(words_list)\n",
    "    len(song_list_update)\n"
   ]
  },
  {
   "cell_type": "code",
   "execution_count": 9,
   "metadata": {},
   "outputs": [],
   "source": [
    "## concat multiple csvs and concat it to original df\n",
    "if update_audio_features:\n",
    "    df_complete_update = dh.concat_csvs('audio_features_update',25)\n",
    "    df_complete_update.shape\n",
    "    dh.update_audiofeatures_csv(df_complete_update)"
   ]
  },
  {
   "cell_type": "markdown",
   "metadata": {},
   "source": [
    "### Load audiofeatures csv into df"
   ]
  },
  {
   "cell_type": "code",
   "execution_count": 10,
   "metadata": {},
   "outputs": [
    {
     "name": "stdout",
     "output_type": "stream",
     "text": [
      "(275081, 20)\n"
     ]
    },
    {
     "data": {
      "text/html": [
       "<div>\n",
       "<style scoped>\n",
       "    .dataframe tbody tr th:only-of-type {\n",
       "        vertical-align: middle;\n",
       "    }\n",
       "\n",
       "    .dataframe tbody tr th {\n",
       "        vertical-align: top;\n",
       "    }\n",
       "\n",
       "    .dataframe thead th {\n",
       "        text-align: right;\n",
       "    }\n",
       "</style>\n",
       "<table border=\"1\" class=\"dataframe\">\n",
       "  <thead>\n",
       "    <tr style=\"text-align: right;\">\n",
       "      <th></th>\n",
       "      <th>artists</th>\n",
       "      <th>name</th>\n",
       "      <th>danceability</th>\n",
       "      <th>energy</th>\n",
       "      <th>key</th>\n",
       "      <th>loudness</th>\n",
       "      <th>mode</th>\n",
       "      <th>speechiness</th>\n",
       "      <th>acousticness</th>\n",
       "      <th>instrumentalness</th>\n",
       "      <th>liveness</th>\n",
       "      <th>valence</th>\n",
       "      <th>tempo</th>\n",
       "      <th>type</th>\n",
       "      <th>id</th>\n",
       "      <th>uri</th>\n",
       "      <th>track_href</th>\n",
       "      <th>analysis_url</th>\n",
       "      <th>duration_ms</th>\n",
       "      <th>time_signature</th>\n",
       "    </tr>\n",
       "  </thead>\n",
       "  <tbody>\n",
       "    <tr>\n",
       "      <th>0</th>\n",
       "      <td>Wings</td>\n",
       "      <td>Mull Of Kintyre - Remastered 1993</td>\n",
       "      <td>0.350</td>\n",
       "      <td>0.297</td>\n",
       "      <td>2</td>\n",
       "      <td>-13.781</td>\n",
       "      <td>1</td>\n",
       "      <td>0.0265</td>\n",
       "      <td>0.000285</td>\n",
       "      <td>0.0000</td>\n",
       "      <td>0.123</td>\n",
       "      <td>0.423</td>\n",
       "      <td>90.603</td>\n",
       "      <td>audio_features</td>\n",
       "      <td>5yrgufPBA1PqSIOHZHrkYa</td>\n",
       "      <td>spotify:track:5yrgufPBA1PqSIOHZHrkYa</td>\n",
       "      <td>https://api.spotify.com/v1/tracks/5yrgufPBA1Pq...</td>\n",
       "      <td>https://api.spotify.com/v1/audio-analysis/5yrg...</td>\n",
       "      <td>282533</td>\n",
       "      <td>3</td>\n",
       "    </tr>\n",
       "    <tr>\n",
       "      <th>1</th>\n",
       "      <td>Ben Folds Five</td>\n",
       "      <td>Selfless, Cold and Composed</td>\n",
       "      <td>0.233</td>\n",
       "      <td>0.497</td>\n",
       "      <td>11</td>\n",
       "      <td>-9.508</td>\n",
       "      <td>1</td>\n",
       "      <td>0.0322</td>\n",
       "      <td>0.361000</td>\n",
       "      <td>0.0288</td>\n",
       "      <td>0.076</td>\n",
       "      <td>0.272</td>\n",
       "      <td>180.779</td>\n",
       "      <td>audio_features</td>\n",
       "      <td>43Fd2LMelrD0HU01n4g4cw</td>\n",
       "      <td>spotify:track:43Fd2LMelrD0HU01n4g4cw</td>\n",
       "      <td>https://api.spotify.com/v1/tracks/43Fd2LMelrD0...</td>\n",
       "      <td>https://api.spotify.com/v1/audio-analysis/43Fd...</td>\n",
       "      <td>370347</td>\n",
       "      <td>3</td>\n",
       "    </tr>\n",
       "    <tr>\n",
       "      <th>2</th>\n",
       "      <td>Jimmy Cliff</td>\n",
       "      <td>Give And Take</td>\n",
       "      <td>0.833</td>\n",
       "      <td>0.559</td>\n",
       "      <td>2</td>\n",
       "      <td>-13.320</td>\n",
       "      <td>1</td>\n",
       "      <td>0.0688</td>\n",
       "      <td>0.087000</td>\n",
       "      <td>0.0000</td>\n",
       "      <td>0.333</td>\n",
       "      <td>0.652</td>\n",
       "      <td>127.907</td>\n",
       "      <td>audio_features</td>\n",
       "      <td>2YYtbzCV6jKwemSv6JoI8R</td>\n",
       "      <td>spotify:track:2YYtbzCV6jKwemSv6JoI8R</td>\n",
       "      <td>https://api.spotify.com/v1/tracks/2YYtbzCV6jKw...</td>\n",
       "      <td>https://api.spotify.com/v1/audio-analysis/2YYt...</td>\n",
       "      <td>133333</td>\n",
       "      <td>4</td>\n",
       "    </tr>\n",
       "  </tbody>\n",
       "</table>\n",
       "</div>"
      ],
      "text/plain": [
       "          artists                               name  danceability  energy  \\\n",
       "0           Wings  Mull Of Kintyre - Remastered 1993         0.350   0.297   \n",
       "1  Ben Folds Five        Selfless, Cold and Composed         0.233   0.497   \n",
       "2     Jimmy Cliff                      Give And Take         0.833   0.559   \n",
       "\n",
       "   key  loudness  mode  speechiness  acousticness  instrumentalness  liveness  \\\n",
       "0    2   -13.781     1       0.0265      0.000285            0.0000     0.123   \n",
       "1   11    -9.508     1       0.0322      0.361000            0.0288     0.076   \n",
       "2    2   -13.320     1       0.0688      0.087000            0.0000     0.333   \n",
       "\n",
       "   valence    tempo            type                      id  \\\n",
       "0    0.423   90.603  audio_features  5yrgufPBA1PqSIOHZHrkYa   \n",
       "1    0.272  180.779  audio_features  43Fd2LMelrD0HU01n4g4cw   \n",
       "2    0.652  127.907  audio_features  2YYtbzCV6jKwemSv6JoI8R   \n",
       "\n",
       "                                    uri  \\\n",
       "0  spotify:track:5yrgufPBA1PqSIOHZHrkYa   \n",
       "1  spotify:track:43Fd2LMelrD0HU01n4g4cw   \n",
       "2  spotify:track:2YYtbzCV6jKwemSv6JoI8R   \n",
       "\n",
       "                                          track_href  \\\n",
       "0  https://api.spotify.com/v1/tracks/5yrgufPBA1Pq...   \n",
       "1  https://api.spotify.com/v1/tracks/43Fd2LMelrD0...   \n",
       "2  https://api.spotify.com/v1/tracks/2YYtbzCV6jKw...   \n",
       "\n",
       "                                        analysis_url  duration_ms  \\\n",
       "0  https://api.spotify.com/v1/audio-analysis/5yrg...       282533   \n",
       "1  https://api.spotify.com/v1/audio-analysis/43Fd...       370347   \n",
       "2  https://api.spotify.com/v1/audio-analysis/2YYt...       133333   \n",
       "\n",
       "   time_signature  \n",
       "0               3  \n",
       "1               3  \n",
       "2               4  "
      ]
     },
     "execution_count": 10,
     "metadata": {},
     "output_type": "execute_result"
    }
   ],
   "source": [
    "df_audiofeatures = pd.read_csv('data/audio_features.csv')\n",
    "print(df_audiofeatures.shape)\n",
    "df_audiofeatures.head(3)"
   ]
  },
  {
   "cell_type": "markdown",
   "metadata": {},
   "source": [
    "### Train scaler on audiofeatures df"
   ]
  },
  {
   "cell_type": "code",
   "execution_count": 11,
   "metadata": {},
   "outputs": [],
   "source": [
    "# first strip of df of unessessary columns\n",
    "X = modelling.to_feature_df(df_audiofeatures)\n",
    "\n",
    "if train_kmean:\n",
    "    # fit scaler to df\n",
    "    scaler = modelling.fit_scaler(X)\n",
    "\n",
    "# transform df\n",
    "X_scaled = modelling.scale(X)"
   ]
  },
  {
   "cell_type": "markdown",
   "metadata": {},
   "source": [
    "### Train Model on audiofeatures df"
   ]
  },
  {
   "cell_type": "markdown",
   "metadata": {},
   "source": []
  },
  {
   "cell_type": "code",
   "execution_count": 12,
   "metadata": {},
   "outputs": [],
   "source": [
    "if train_kmean:\n",
    "    kmeans = modelling.train_kmeans(X_scaled, number_clusters=9)\n",
    "    len(kmeans.labels_)\n",
    "else:\n",
    "    kmeans = modelling.load_kmeans()"
   ]
  },
  {
   "cell_type": "code",
   "execution_count": 13,
   "metadata": {},
   "outputs": [
    {
     "data": {
      "text/plain": [
       "array([2, 5, 0, ..., 6, 7, 1])"
      ]
     },
     "execution_count": 13,
     "metadata": {},
     "output_type": "execute_result"
    }
   ],
   "source": [
    "# assign a cluster to each example\n",
    "labels = kmeans.predict(X_scaled)\n",
    "labels"
   ]
  },
  {
   "cell_type": "code",
   "execution_count": 14,
   "metadata": {},
   "outputs": [
    {
     "data": {
      "image/png": "[encoded data removed]",
      "text/plain": [
       "<Figure size 576x396 with 1 Axes>"
      ]
     },
     "metadata": {},
     "output_type": "display_data"
    }
   ],
   "source": [
    "# retrieve unique clusters\n",
    "clusters = np.unique(labels)\n",
    "# create scatter plot for samples from each cluster\n",
    "for cluster in clusters:\n",
    "    # get row indexes for samples with this cluster\n",
    "    row_ix = np.where(labels == cluster)\n",
    "    # create scatter of these samples\n",
    "    pyplot.scatter(X.to_numpy()[row_ix, 1], X.to_numpy()[row_ix, 2])\n",
    "    # show the plot\n",
    "pyplot.show()"
   ]
  },
  {
   "cell_type": "code",
   "execution_count": 15,
   "metadata": {},
   "outputs": [
    {
     "data": {
      "text/plain": [
       "0    57659\n",
       "1    30079\n",
       "2    36275\n",
       "3     6849\n",
       "4    54121\n",
       "5    37121\n",
       "6    34484\n",
       "7    14947\n",
       "8     3546\n",
       "dtype: int64"
      ]
     },
     "execution_count": 15,
     "metadata": {},
     "output_type": "execute_result"
    }
   ],
   "source": [
    "clusters = kmeans.predict(X_scaled)\n",
    "#clusters\n",
    "pd.Series(clusters).value_counts().sort_index()"
   ]
  },
  {
   "cell_type": "code",
   "execution_count": 16,
   "metadata": {},
   "outputs": [
    {
     "data": {
      "text/html": [
       "<div>\n",
       "<style scoped>\n",
       "    .dataframe tbody tr th:only-of-type {\n",
       "        vertical-align: middle;\n",
       "    }\n",
       "\n",
       "    .dataframe tbody tr th {\n",
       "        vertical-align: top;\n",
       "    }\n",
       "\n",
       "    .dataframe thead th {\n",
       "        text-align: right;\n",
       "    }\n",
       "</style>\n",
       "<table border=\"1\" class=\"dataframe\">\n",
       "  <thead>\n",
       "    <tr style=\"text-align: right;\">\n",
       "      <th></th>\n",
       "      <th>artists</th>\n",
       "      <th>name</th>\n",
       "      <th>danceability</th>\n",
       "      <th>energy</th>\n",
       "      <th>key</th>\n",
       "      <th>loudness</th>\n",
       "      <th>mode</th>\n",
       "      <th>speechiness</th>\n",
       "      <th>acousticness</th>\n",
       "      <th>instrumentalness</th>\n",
       "      <th>...</th>\n",
       "      <th>valence</th>\n",
       "      <th>tempo</th>\n",
       "      <th>type</th>\n",
       "      <th>id</th>\n",
       "      <th>uri</th>\n",
       "      <th>track_href</th>\n",
       "      <th>analysis_url</th>\n",
       "      <th>duration_ms</th>\n",
       "      <th>time_signature</th>\n",
       "      <th>cluster</th>\n",
       "    </tr>\n",
       "  </thead>\n",
       "  <tbody>\n",
       "    <tr>\n",
       "      <th>0</th>\n",
       "      <td>Wings</td>\n",
       "      <td>Mull Of Kintyre - Remastered 1993</td>\n",
       "      <td>0.350</td>\n",
       "      <td>0.297</td>\n",
       "      <td>2</td>\n",
       "      <td>-13.781</td>\n",
       "      <td>1</td>\n",
       "      <td>0.0265</td>\n",
       "      <td>0.000285</td>\n",
       "      <td>0.0000</td>\n",
       "      <td>...</td>\n",
       "      <td>0.423</td>\n",
       "      <td>90.603</td>\n",
       "      <td>audio_features</td>\n",
       "      <td>5yrgufPBA1PqSIOHZHrkYa</td>\n",
       "      <td>spotify:track:5yrgufPBA1PqSIOHZHrkYa</td>\n",
       "      <td>https://api.spotify.com/v1/tracks/5yrgufPBA1Pq...</td>\n",
       "      <td>https://api.spotify.com/v1/audio-analysis/5yrg...</td>\n",
       "      <td>282533</td>\n",
       "      <td>3</td>\n",
       "      <td>2</td>\n",
       "    </tr>\n",
       "    <tr>\n",
       "      <th>1</th>\n",
       "      <td>Ben Folds Five</td>\n",
       "      <td>Selfless, Cold and Composed</td>\n",
       "      <td>0.233</td>\n",
       "      <td>0.497</td>\n",
       "      <td>11</td>\n",
       "      <td>-9.508</td>\n",
       "      <td>1</td>\n",
       "      <td>0.0322</td>\n",
       "      <td>0.361000</td>\n",
       "      <td>0.0288</td>\n",
       "      <td>...</td>\n",
       "      <td>0.272</td>\n",
       "      <td>180.779</td>\n",
       "      <td>audio_features</td>\n",
       "      <td>43Fd2LMelrD0HU01n4g4cw</td>\n",
       "      <td>spotify:track:43Fd2LMelrD0HU01n4g4cw</td>\n",
       "      <td>https://api.spotify.com/v1/tracks/43Fd2LMelrD0...</td>\n",
       "      <td>https://api.spotify.com/v1/audio-analysis/43Fd...</td>\n",
       "      <td>370347</td>\n",
       "      <td>3</td>\n",
       "      <td>5</td>\n",
       "    </tr>\n",
       "    <tr>\n",
       "      <th>2</th>\n",
       "      <td>Jimmy Cliff</td>\n",
       "      <td>Give And Take</td>\n",
       "      <td>0.833</td>\n",
       "      <td>0.559</td>\n",
       "      <td>2</td>\n",
       "      <td>-13.320</td>\n",
       "      <td>1</td>\n",
       "      <td>0.0688</td>\n",
       "      <td>0.087000</td>\n",
       "      <td>0.0000</td>\n",
       "      <td>...</td>\n",
       "      <td>0.652</td>\n",
       "      <td>127.907</td>\n",
       "      <td>audio_features</td>\n",
       "      <td>2YYtbzCV6jKwemSv6JoI8R</td>\n",
       "      <td>spotify:track:2YYtbzCV6jKwemSv6JoI8R</td>\n",
       "      <td>https://api.spotify.com/v1/tracks/2YYtbzCV6jKw...</td>\n",
       "      <td>https://api.spotify.com/v1/audio-analysis/2YYt...</td>\n",
       "      <td>133333</td>\n",
       "      <td>4</td>\n",
       "      <td>0</td>\n",
       "    </tr>\n",
       "    <tr>\n",
       "      <th>3</th>\n",
       "      <td>SHINee</td>\n",
       "      <td>SUPERSTAR</td>\n",
       "      <td>0.726</td>\n",
       "      <td>0.796</td>\n",
       "      <td>5</td>\n",
       "      <td>-3.853</td>\n",
       "      <td>0</td>\n",
       "      <td>0.0741</td>\n",
       "      <td>0.087900</td>\n",
       "      <td>0.0000</td>\n",
       "      <td>...</td>\n",
       "      <td>0.868</td>\n",
       "      <td>110.010</td>\n",
       "      <td>audio_features</td>\n",
       "      <td>7jiV2MnieeHtnYqTrXmQHD</td>\n",
       "      <td>spotify:track:7jiV2MnieeHtnYqTrXmQHD</td>\n",
       "      <td>https://api.spotify.com/v1/tracks/7jiV2MnieeHt...</td>\n",
       "      <td>https://api.spotify.com/v1/audio-analysis/7jiV...</td>\n",
       "      <td>174707</td>\n",
       "      <td>4</td>\n",
       "      <td>4</td>\n",
       "    </tr>\n",
       "    <tr>\n",
       "      <th>4</th>\n",
       "      <td>Electric Light Orchestra</td>\n",
       "      <td>So Serious</td>\n",
       "      <td>0.697</td>\n",
       "      <td>0.866</td>\n",
       "      <td>0</td>\n",
       "      <td>-7.632</td>\n",
       "      <td>1</td>\n",
       "      <td>0.0354</td>\n",
       "      <td>0.207000</td>\n",
       "      <td>0.0000</td>\n",
       "      <td>...</td>\n",
       "      <td>0.850</td>\n",
       "      <td>128.185</td>\n",
       "      <td>audio_features</td>\n",
       "      <td>2jo3bwXAGhVPL1Uh3dBWiB</td>\n",
       "      <td>spotify:track:2jo3bwXAGhVPL1Uh3dBWiB</td>\n",
       "      <td>https://api.spotify.com/v1/tracks/2jo3bwXAGhVP...</td>\n",
       "      <td>https://api.spotify.com/v1/audio-analysis/2jo3...</td>\n",
       "      <td>161773</td>\n",
       "      <td>4</td>\n",
       "      <td>0</td>\n",
       "    </tr>\n",
       "  </tbody>\n",
       "</table>\n",
       "<p>5 rows × 21 columns</p>\n",
       "</div>"
      ],
      "text/plain": [
       "                    artists                               name  danceability  \\\n",
       "0                     Wings  Mull Of Kintyre - Remastered 1993         0.350   \n",
       "1            Ben Folds Five        Selfless, Cold and Composed         0.233   \n",
       "2               Jimmy Cliff                      Give And Take         0.833   \n",
       "3                    SHINee                          SUPERSTAR         0.726   \n",
       "4  Electric Light Orchestra                         So Serious         0.697   \n",
       "\n",
       "   energy  key  loudness  mode  speechiness  acousticness  instrumentalness  \\\n",
       "0   0.297    2   -13.781     1       0.0265      0.000285            0.0000   \n",
       "1   0.497   11    -9.508     1       0.0322      0.361000            0.0288   \n",
       "2   0.559    2   -13.320     1       0.0688      0.087000            0.0000   \n",
       "3   0.796    5    -3.853     0       0.0741      0.087900            0.0000   \n",
       "4   0.866    0    -7.632     1       0.0354      0.207000            0.0000   \n",
       "\n",
       "   ...  valence    tempo            type                      id  \\\n",
       "0  ...    0.423   90.603  audio_features  5yrgufPBA1PqSIOHZHrkYa   \n",
       "1  ...    0.272  180.779  audio_features  43Fd2LMelrD0HU01n4g4cw   \n",
       "2  ...    0.652  127.907  audio_features  2YYtbzCV6jKwemSv6JoI8R   \n",
       "3  ...    0.868  110.010  audio_features  7jiV2MnieeHtnYqTrXmQHD   \n",
       "4  ...    0.850  128.185  audio_features  2jo3bwXAGhVPL1Uh3dBWiB   \n",
       "\n",
       "                                    uri  \\\n",
       "0  spotify:track:5yrgufPBA1PqSIOHZHrkYa   \n",
       "1  spotify:track:43Fd2LMelrD0HU01n4g4cw   \n",
       "2  spotify:track:2YYtbzCV6jKwemSv6JoI8R   \n",
       "3  spotify:track:7jiV2MnieeHtnYqTrXmQHD   \n",
       "4  spotify:track:2jo3bwXAGhVPL1Uh3dBWiB   \n",
       "\n",
       "                                          track_href  \\\n",
       "0  https://api.spotify.com/v1/tracks/5yrgufPBA1Pq...   \n",
       "1  https://api.spotify.com/v1/tracks/43Fd2LMelrD0...   \n",
       "2  https://api.spotify.com/v1/tracks/2YYtbzCV6jKw...   \n",
       "3  https://api.spotify.com/v1/tracks/7jiV2MnieeHt...   \n",
       "4  https://api.spotify.com/v1/tracks/2jo3bwXAGhVP...   \n",
       "\n",
       "                                        analysis_url duration_ms  \\\n",
       "0  https://api.spotify.com/v1/audio-analysis/5yrg...      282533   \n",
       "1  https://api.spotify.com/v1/audio-analysis/43Fd...      370347   \n",
       "2  https://api.spotify.com/v1/audio-analysis/2YYt...      133333   \n",
       "3  https://api.spotify.com/v1/audio-analysis/7jiV...      174707   \n",
       "4  https://api.spotify.com/v1/audio-analysis/2jo3...      161773   \n",
       "\n",
       "   time_signature  cluster  \n",
       "0               3        2  \n",
       "1               3        5  \n",
       "2               4        0  \n",
       "3               4        4  \n",
       "4               4        0  \n",
       "\n",
       "[5 rows x 21 columns]"
      ]
     },
     "execution_count": 16,
     "metadata": {},
     "output_type": "execute_result"
    }
   ],
   "source": [
    "df_audiofeatures[\"cluster\"] = clusters\n",
    "df_audiofeatures.head()"
   ]
  },
  {
   "cell_type": "markdown",
   "metadata": {},
   "source": []
  },
  {
   "cell_type": "code",
   "execution_count": 17,
   "metadata": {},
   "outputs": [
    {
     "data": {
      "text/html": [
       "<div>\n",
       "<style scoped>\n",
       "    .dataframe tbody tr th:only-of-type {\n",
       "        vertical-align: middle;\n",
       "    }\n",
       "\n",
       "    .dataframe tbody tr th {\n",
       "        vertical-align: top;\n",
       "    }\n",
       "\n",
       "    .dataframe thead th {\n",
       "        text-align: right;\n",
       "    }\n",
       "</style>\n",
       "<table border=\"1\" class=\"dataframe\">\n",
       "  <thead>\n",
       "    <tr style=\"text-align: right;\">\n",
       "      <th></th>\n",
       "      <th>artists</th>\n",
       "      <th>name</th>\n",
       "      <th>danceability</th>\n",
       "      <th>energy</th>\n",
       "      <th>key</th>\n",
       "      <th>loudness</th>\n",
       "      <th>mode</th>\n",
       "      <th>speechiness</th>\n",
       "      <th>acousticness</th>\n",
       "      <th>instrumentalness</th>\n",
       "      <th>...</th>\n",
       "      <th>valence</th>\n",
       "      <th>tempo</th>\n",
       "      <th>type</th>\n",
       "      <th>id</th>\n",
       "      <th>uri</th>\n",
       "      <th>track_href</th>\n",
       "      <th>analysis_url</th>\n",
       "      <th>duration_ms</th>\n",
       "      <th>time_signature</th>\n",
       "      <th>cluster</th>\n",
       "    </tr>\n",
       "  </thead>\n",
       "  <tbody>\n",
       "    <tr>\n",
       "      <th>157105</th>\n",
       "      <td>Frank Sinatra</td>\n",
       "      <td>Fly Me To The Moon</td>\n",
       "      <td>0.623</td>\n",
       "      <td>0.274</td>\n",
       "      <td>5</td>\n",
       "      <td>-14.929</td>\n",
       "      <td>1</td>\n",
       "      <td>0.07</td>\n",
       "      <td>0.343</td>\n",
       "      <td>0.000003</td>\n",
       "      <td>...</td>\n",
       "      <td>0.427</td>\n",
       "      <td>118.052</td>\n",
       "      <td>audio_features</td>\n",
       "      <td>1PVTvvxpSkyJWemW1CwVVk</td>\n",
       "      <td>spotify:track:1PVTvvxpSkyJWemW1CwVVk</td>\n",
       "      <td>https://api.spotify.com/v1/tracks/1PVTvvxpSkyJ...</td>\n",
       "      <td>https://api.spotify.com/v1/audio-analysis/1PVT...</td>\n",
       "      <td>148867</td>\n",
       "      <td>4</td>\n",
       "      <td>2</td>\n",
       "    </tr>\n",
       "  </tbody>\n",
       "</table>\n",
       "<p>1 rows × 21 columns</p>\n",
       "</div>"
      ],
      "text/plain": [
       "              artists                name  danceability  energy  key  \\\n",
       "157105  Frank Sinatra  Fly Me To The Moon         0.623   0.274    5   \n",
       "\n",
       "        loudness  mode  speechiness  acousticness  instrumentalness  ...  \\\n",
       "157105   -14.929     1         0.07         0.343          0.000003  ...   \n",
       "\n",
       "        valence    tempo            type                      id  \\\n",
       "157105    0.427  118.052  audio_features  1PVTvvxpSkyJWemW1CwVVk   \n",
       "\n",
       "                                         uri  \\\n",
       "157105  spotify:track:1PVTvvxpSkyJWemW1CwVVk   \n",
       "\n",
       "                                               track_href  \\\n",
       "157105  https://api.spotify.com/v1/tracks/1PVTvvxpSkyJ...   \n",
       "\n",
       "                                             analysis_url duration_ms  \\\n",
       "157105  https://api.spotify.com/v1/audio-analysis/1PVT...      148867   \n",
       "\n",
       "        time_signature  cluster  \n",
       "157105               4        2  \n",
       "\n",
       "[1 rows x 21 columns]"
      ]
     },
     "execution_count": 17,
     "metadata": {},
     "output_type": "execute_result"
    }
   ],
   "source": [
    "df_audiofeatures[df_audiofeatures['cluster'] == 2].sample()"
   ]
  },
  {
   "cell_type": "markdown",
   "metadata": {},
   "source": []
  },
  {
   "cell_type": "markdown",
   "metadata": {
    "id": "77b-H29dnlLP"
   },
   "source": [
    "## Chosing K"
   ]
  },
  {
   "cell_type": "markdown",
   "metadata": {
    "id": "L8_TbXg4no6m"
   },
   "source": [
    "We have used K=8 by default for now - but we know that 8 might not be the optimal number of clusters for our dataset. Having a metric like inertia, we can compute it for several K values and then use the \"elbow method\" to choose the best K.\n",
    "\n",
    "We will now leave all other parameters with their default value, since it seems to work pretty well."
   ]
  },
  {
   "cell_type": "code",
   "execution_count": 18,
   "metadata": {
    "colab": {
     "base_uri": "https://localhost:8080/",
     "height": 1000
    },
    "executionInfo": {
     "elapsed": 2117,
     "status": "ok",
     "timestamp": 1623849240010,
     "user": {
      "displayName": "Ignacio Soteras",
      "photoUrl": "",
      "userId": "02050793736257155229"
     },
     "user_tz": -120
    },
    "id": "g69gpyLSnqVS",
    "outputId": "5eff7e09-1033-499e-ca86-a5b49f356400"
   },
   "outputs": [],
   "source": [
    "# K = range(2, 21)\n",
    "# inertia = []\n",
    "\n",
    "# for k in K:\n",
    "#     print(\"Training a K-Means model with {} clusters! \".format(k))\n",
    "#     print()\n",
    "#     kmeans = KMeans(n_clusters=k,\n",
    "#                     random_state=1234)\n",
    "#     kmeans.fit(X_scaled)\n",
    "#     inertia.append(kmeans.inertia_)\n",
    "\n",
    "# import numpy as np\n",
    "# import matplotlib.pyplot as plt\n",
    "# %matplotlib inline\n",
    "\n",
    "# plt.figure(figsize=(16,8))\n",
    "# plt.plot(K, inertia, 'bx-')\n",
    "# plt.xlabel('k')\n",
    "# plt.ylabel('inertia')\n",
    "# plt.xticks(np.arange(min(K), max(K)+1, 1.0))\n",
    "# plt.title('Elbow Method showing the optimal k')"
   ]
  },
  {
   "cell_type": "markdown",
   "metadata": {
    "id": "shXQmFxLpVU8"
   },
   "source": [
    "## Silouhette"
   ]
  },
  {
   "cell_type": "markdown",
   "metadata": {
    "id": "7t-Ydk-5pYbf"
   },
   "source": [
    "There's a metric called **Silhouette Score** that also measures how similar is an observation is to its own cluster compared to other clusters. For the ith observation, the **Silhouette Score** is:\n",
    "\n",
    "$$s_{K,L} = (b - a) / max(a,b) $$\n",
    "\n",
    "Where:\n",
    "\n",
    "a = mean intra-cluster distance (the average distance between i and every other observation in the cluster where i belongs)\n",
    "\n",
    "$$ a = \\frac{1}{n_{K}}\\sum_{i,j\\neq{i}}^{n_{K}}d(i,j)$$\n",
    "\n",
    "b = mean **nearest-cluster** distance (the average distance between i and the observations of the nearest cluster that i is not part of it)\n",
    "\n",
    "$$ b = \\frac{1}{(n_{K}*n_{L})}\\sum_{i}^{n_{K}}\\sum_{j}^{n_{L}}d(i,j)$$\n",
    "\n",
    "The silhouette score for the whole model is the **average of all the silhouette scores** of each instance.\n",
    "\n",
    "$$ S = \\frac{2}{N(N-1)}\\sum_{c}s_{K,L}$$\n",
    "\n",
    "Because we divide the substraction of (b-a) by the max of the two distances (which will always be b unless the observation has been wrongly assigned to a cluster it should not belong), we obtain a \"normalized score\", that ranges from -1 to 1, and that makes it easier to interpret."
   ]
  },
  {
   "cell_type": "markdown",
   "metadata": {},
   "source": [
    "### get cluster and recommend a song"
   ]
  },
  {
   "cell_type": "code",
   "execution_count": 24,
   "metadata": {},
   "outputs": [
    {
     "data": {
      "text/html": [
       "<div>\n",
       "<style scoped>\n",
       "    .dataframe tbody tr th:only-of-type {\n",
       "        vertical-align: middle;\n",
       "    }\n",
       "\n",
       "    .dataframe tbody tr th {\n",
       "        vertical-align: top;\n",
       "    }\n",
       "\n",
       "    .dataframe thead th {\n",
       "        text-align: right;\n",
       "    }\n",
       "</style>\n",
       "<table border=\"1\" class=\"dataframe\">\n",
       "  <thead>\n",
       "    <tr style=\"text-align: right;\">\n",
       "      <th></th>\n",
       "      <th>artists</th>\n",
       "      <th>name</th>\n",
       "      <th>danceability</th>\n",
       "      <th>energy</th>\n",
       "      <th>key</th>\n",
       "      <th>loudness</th>\n",
       "      <th>mode</th>\n",
       "      <th>speechiness</th>\n",
       "      <th>acousticness</th>\n",
       "      <th>instrumentalness</th>\n",
       "      <th>...</th>\n",
       "      <th>valence</th>\n",
       "      <th>tempo</th>\n",
       "      <th>type</th>\n",
       "      <th>id</th>\n",
       "      <th>uri</th>\n",
       "      <th>track_href</th>\n",
       "      <th>analysis_url</th>\n",
       "      <th>duration_ms</th>\n",
       "      <th>time_signature</th>\n",
       "      <th>cluster</th>\n",
       "    </tr>\n",
       "  </thead>\n",
       "  <tbody>\n",
       "    <tr>\n",
       "      <th>105900</th>\n",
       "      <td>Albert Hammond</td>\n",
       "      <td>The Peacemaker</td>\n",
       "      <td>0.665</td>\n",
       "      <td>0.473</td>\n",
       "      <td>8</td>\n",
       "      <td>-12.15</td>\n",
       "      <td>1</td>\n",
       "      <td>0.051</td>\n",
       "      <td>0.272</td>\n",
       "      <td>0.0</td>\n",
       "      <td>...</td>\n",
       "      <td>0.692</td>\n",
       "      <td>84.856</td>\n",
       "      <td>audio_features</td>\n",
       "      <td>7kccHecmTjPsUpLz9WsWjF</td>\n",
       "      <td>spotify:track:7kccHecmTjPsUpLz9WsWjF</td>\n",
       "      <td>https://api.spotify.com/v1/tracks/7kccHecmTjPs...</td>\n",
       "      <td>https://api.spotify.com/v1/audio-analysis/7kcc...</td>\n",
       "      <td>162533</td>\n",
       "      <td>4</td>\n",
       "      <td>0</td>\n",
       "    </tr>\n",
       "  </tbody>\n",
       "</table>\n",
       "<p>1 rows × 21 columns</p>\n",
       "</div>"
      ],
      "text/plain": [
       "               artists            name  danceability  energy  key  loudness  \\\n",
       "105900  Albert Hammond  The Peacemaker         0.665   0.473    8    -12.15   \n",
       "\n",
       "        mode  speechiness  acousticness  instrumentalness  ...  valence  \\\n",
       "105900     1        0.051         0.272               0.0  ...    0.692   \n",
       "\n",
       "         tempo            type                      id  \\\n",
       "105900  84.856  audio_features  7kccHecmTjPsUpLz9WsWjF   \n",
       "\n",
       "                                         uri  \\\n",
       "105900  spotify:track:7kccHecmTjPsUpLz9WsWjF   \n",
       "\n",
       "                                               track_href  \\\n",
       "105900  https://api.spotify.com/v1/tracks/7kccHecmTjPs...   \n",
       "\n",
       "                                             analysis_url duration_ms  \\\n",
       "105900  https://api.spotify.com/v1/audio-analysis/7kcc...      162533   \n",
       "\n",
       "        time_signature  cluster  \n",
       "105900               4        0  \n",
       "\n",
       "[1 rows x 21 columns]"
      ]
     },
     "execution_count": 24,
     "metadata": {},
     "output_type": "execute_result"
    }
   ],
   "source": [
    "random_song = df_audiofeatures.sample()\n",
    "random_song"
   ]
  },
  {
   "cell_type": "code",
   "execution_count": 25,
   "metadata": {},
   "outputs": [],
   "source": [
    "random_song = modelling.to_feature_df(random_song)\n"
   ]
  },
  {
   "cell_type": "code",
   "execution_count": 26,
   "metadata": {},
   "outputs": [
    {
     "data": {
      "text/plain": [
       "0"
      ]
     },
     "execution_count": 26,
     "metadata": {},
     "output_type": "execute_result"
    }
   ],
   "source": [
    "cluster = modelling.give_cluster(random_song,kmeans)[0]\n",
    "cluster"
   ]
  },
  {
   "cell_type": "code",
   "execution_count": 27,
   "metadata": {},
   "outputs": [
    {
     "data": {
      "text/html": [
       "<div>\n",
       "<style scoped>\n",
       "    .dataframe tbody tr th:only-of-type {\n",
       "        vertical-align: middle;\n",
       "    }\n",
       "\n",
       "    .dataframe tbody tr th {\n",
       "        vertical-align: top;\n",
       "    }\n",
       "\n",
       "    .dataframe thead th {\n",
       "        text-align: right;\n",
       "    }\n",
       "</style>\n",
       "<table border=\"1\" class=\"dataframe\">\n",
       "  <thead>\n",
       "    <tr style=\"text-align: right;\">\n",
       "      <th></th>\n",
       "      <th>artists</th>\n",
       "      <th>name</th>\n",
       "      <th>danceability</th>\n",
       "      <th>energy</th>\n",
       "      <th>key</th>\n",
       "      <th>loudness</th>\n",
       "      <th>mode</th>\n",
       "      <th>speechiness</th>\n",
       "      <th>acousticness</th>\n",
       "      <th>instrumentalness</th>\n",
       "      <th>...</th>\n",
       "      <th>valence</th>\n",
       "      <th>tempo</th>\n",
       "      <th>type</th>\n",
       "      <th>id</th>\n",
       "      <th>uri</th>\n",
       "      <th>track_href</th>\n",
       "      <th>analysis_url</th>\n",
       "      <th>duration_ms</th>\n",
       "      <th>time_signature</th>\n",
       "      <th>cluster</th>\n",
       "    </tr>\n",
       "  </thead>\n",
       "  <tbody>\n",
       "    <tr>\n",
       "      <th>19244</th>\n",
       "      <td>Elton John</td>\n",
       "      <td>Cold Heart - PNAU Remix</td>\n",
       "      <td>0.796</td>\n",
       "      <td>0.798</td>\n",
       "      <td>1</td>\n",
       "      <td>-6.312</td>\n",
       "      <td>1</td>\n",
       "      <td>0.0317</td>\n",
       "      <td>0.034</td>\n",
       "      <td>0.000042</td>\n",
       "      <td>...</td>\n",
       "      <td>0.942</td>\n",
       "      <td>116.032</td>\n",
       "      <td>audio_features</td>\n",
       "      <td>5AhWtK0nhP8T3yYL8zNzCa</td>\n",
       "      <td>spotify:track:5AhWtK0nhP8T3yYL8zNzCa</td>\n",
       "      <td>https://api.spotify.com/v1/tracks/5AhWtK0nhP8T...</td>\n",
       "      <td>https://api.spotify.com/v1/audio-analysis/5AhW...</td>\n",
       "      <td>202735</td>\n",
       "      <td>4</td>\n",
       "      <td>0</td>\n",
       "    </tr>\n",
       "  </tbody>\n",
       "</table>\n",
       "<p>1 rows × 21 columns</p>\n",
       "</div>"
      ],
      "text/plain": [
       "          artists                     name  danceability  energy  key  \\\n",
       "19244  Elton John  Cold Heart - PNAU Remix         0.796   0.798    1   \n",
       "\n",
       "       loudness  mode  speechiness  acousticness  instrumentalness  ...  \\\n",
       "19244    -6.312     1       0.0317         0.034          0.000042  ...   \n",
       "\n",
       "       valence    tempo            type                      id  \\\n",
       "19244    0.942  116.032  audio_features  5AhWtK0nhP8T3yYL8zNzCa   \n",
       "\n",
       "                                        uri  \\\n",
       "19244  spotify:track:5AhWtK0nhP8T3yYL8zNzCa   \n",
       "\n",
       "                                              track_href  \\\n",
       "19244  https://api.spotify.com/v1/tracks/5AhWtK0nhP8T...   \n",
       "\n",
       "                                            analysis_url duration_ms  \\\n",
       "19244  https://api.spotify.com/v1/audio-analysis/5AhW...      202735   \n",
       "\n",
       "       time_signature  cluster  \n",
       "19244               4        0  \n",
       "\n",
       "[1 rows x 21 columns]"
      ]
     },
     "execution_count": 27,
     "metadata": {},
     "output_type": "execute_result"
    }
   ],
   "source": [
    "df_audiofeatures[df_audiofeatures['cluster'] == cluster].sample()"
   ]
  },
  {
   "cell_type": "code",
   "execution_count": null,
   "metadata": {},
   "outputs": [],
   "source": []
  }
 ],
 "metadata": {
  "interpreter": {
   "hash": "bfcfd5de7629ab692414048eb27291efd7d2258e9194efee115e7dde625bb37e"
  },
  "kernelspec": {
   "display_name": "Python 3.9.6 64-bit ('DA_Env': conda)",
   "language": "python",
   "name": "python3"
  },
  "language_info": {
   "codemirror_mode": {
    "name": "ipython",
    "version": 3
   },
   "file_extension": ".py",
   "mimetype": "text/x-python",
   "name": "python",
   "nbconvert_exporter": "python",
   "pygments_lexer": "ipython3",
   "version": "3.9.6"
  },
  "orig_nbformat": 4
 },
 "nbformat": 4,
 "nbformat_minor": 2
}
