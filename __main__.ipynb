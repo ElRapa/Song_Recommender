{
 "cells": [
  {
   "cell_type": "code",
   "execution_count": 13,
   "metadata": {},
   "outputs": [],
   "source": [
    "import ux\n",
    "import pandas as pd     \n",
    "import spotipy\n",
    "from spotipy.oauth2 import SpotifyClientCredentials\n",
    "from IPython.display import IFrame\n",
    "\n",
    "\n",
    "import secrets"
   ]
  },
  {
   "cell_type": "code",
   "execution_count": 22,
   "metadata": {},
   "outputs": [],
   "source": [
    "load_dfs = True"
   ]
  },
  {
   "cell_type": "code",
   "execution_count": 23,
   "metadata": {},
   "outputs": [],
   "source": [
    "if load_dfs:\n",
    "    df_audiofeatures = pd.read_csv('data/audio_features.csv')\n",
    "    top100 = pd.read_csv('data/billboard_top100.csv')\n"
   ]
  },
  {
   "cell_type": "code",
   "execution_count": 16,
   "metadata": {},
   "outputs": [],
   "source": [
    "sp = spotipy.Spotify(auth_manager=SpotifyClientCredentials(client_id= secrets.Client_ID,\n",
    "                                                           client_secret= secrets.Client_Secret))"
   ]
  },
  {
   "cell_type": "code",
   "execution_count": 27,
   "metadata": {},
   "outputs": [
    {
     "name": "stdout",
     "output_type": "stream",
     "text": [
      "Give it to me baby! Give me a song: adagio in e major, k. 261\n",
      "Did you mean 'Adagio in E Major, K. 261' by 'Wolfgang Amadeus Mozart'? Type yes or noyes\n",
      "Oh, that's a nice one!\n",
      "Maybe you'll like 'Not My Responsibility' by 'Billie Eilish'? Type yes or nono\n",
      "Maybe you'll like 'Blurry' by 'Hevi'? Type yes or nono\n",
      "Maybe you'll like 'Fireplace Sounds, Pt. 57' by 'Brain Sounds AI'? Type yes or nono\n",
      "Maybe you'll like 'Blissful Bedtime' by 'Baby Lullaby'? Type yes or nono\n",
      "Maybe you'll like 'subsidized November 3' by 'Randall Stewarts'? Type yes or nono\n",
      "Maybe you'll like 'Celebrating Our Beauty' by 'Trevor Kowalski'? Type yes or nono\n",
      "Maybe you'll like 'at 39 is annie the oldest cat?' by 'Ratboys'? Type yes or no\n",
      "Maybe you'll like 'Ballroom Waltz' by 'Moscow Symphony Orchestra'? Type yes or noyes\n"
     ]
    }
   ],
   "source": [
    "track_id = ux.recommend()"
   ]
  },
  {
   "cell_type": "code",
   "execution_count": 28,
   "metadata": {},
   "outputs": [
    {
     "data": {
      "text/html": [
       "\n",
       "        <iframe\n",
       "            width=\"320\"\n",
       "            height=\"80\"\n",
       "            src=\"https://open.spotify.com/embed/track/5g42wo6nsniuK3u282kbYH?frameborder=0&allowtransparency=true&allow=encrypted-media\"\n",
       "            frameborder=\"0\"\n",
       "            allowfullscreen\n",
       "            \n",
       "        ></iframe>\n",
       "        "
      ],
      "text/plain": [
       "<IPython.lib.display.IFrame at 0x1c6b916e370>"
      ]
     },
     "execution_count": 28,
     "metadata": {},
     "output_type": "execute_result"
    }
   ],
   "source": [
    "IFrame(src=f\"https://open.spotify.com/embed/track/{track_id}\",\n",
    "    width=\"320\",\n",
    "    height=\"80\",\n",
    "    frameborder=\"0\",\n",
    "    allowtransparency=\"true\",\n",
    "    allow=\"encrypted-media\",\n",
    "    )"
   ]
  },
  {
   "cell_type": "code",
   "execution_count": 24,
   "metadata": {},
   "outputs": [
    {
     "data": {
      "text/plain": [
       "275081"
      ]
     },
     "execution_count": 24,
     "metadata": {},
     "output_type": "execute_result"
    }
   ],
   "source": [
    "len(df_audiofeatures)"
   ]
  },
  {
   "cell_type": "code",
   "execution_count": null,
   "metadata": {},
   "outputs": [],
   "source": []
  }
 ],
 "metadata": {
  "interpreter": {
   "hash": "bfcfd5de7629ab692414048eb27291efd7d2258e9194efee115e7dde625bb37e"
  },
  "kernelspec": {
   "display_name": "Python 3 (ipykernel)",
   "language": "python",
   "name": "python3"
  },
  "language_info": {
   "codemirror_mode": {
    "name": "ipython",
    "version": 3
   },
   "file_extension": ".py",
   "mimetype": "text/x-python",
   "name": "python",
   "nbconvert_exporter": "python",
   "pygments_lexer": "ipython3",
   "version": "3.9.6"
  }
 },
 "nbformat": 4,
 "nbformat_minor": 2
}
