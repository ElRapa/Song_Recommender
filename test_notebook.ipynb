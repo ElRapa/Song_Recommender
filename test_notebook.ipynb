{
 "cells": [
  {
   "cell_type": "markdown",
   "metadata": {},
   "source": [
    "# Song Recommender\n",
    "Recommends song based on one song.\n",
    "1. If it's a popular song: recommend another popular song\n",
    "2. If it's not a popular song: recommend simmilar song"
   ]
  },
  {
   "cell_type": "markdown",
   "metadata": {},
   "source": [
    "## 1. Setup"
   ]
  },
  {
   "cell_type": "markdown",
   "metadata": {},
   "source": [
    "### 1.1 Import Libraries"
   ]
  },
  {
   "cell_type": "code",
   "execution_count": 90,
   "metadata": {},
   "outputs": [],
   "source": [
    "import pandas as pd\n",
    "import pprint\n",
    "from bs4 import BeautifulSoup"
   ]
  },
  {
   "cell_type": "markdown",
   "metadata": {},
   "source": [
    "### 1.2 Load html file from website"
   ]
  },
  {
   "cell_type": "code",
   "execution_count": 157,
   "metadata": {},
   "outputs": [],
   "source": [
    "import spotipy\n",
    "import json\n",
    "import pandas as pd\n",
    "from spotipy.oauth2 import SpotifyClientCredentials"
   ]
  },
  {
   "cell_type": "code",
   "execution_count": 92,
   "metadata": {},
   "outputs": [],
   "source": [
    "import secrets\n",
    "\n",
    "#Initialize SpotiPy with user credentias\n",
    "sp = spotipy.Spotify(auth_manager=SpotifyClientCredentials(client_id= secrets.Client_ID,\n",
    "                                                           client_secret= secrets.Client_Secret))\n",
    "# top 10000 of all time"
   ]
  },
  {
   "cell_type": "code",
   "execution_count": null,
   "metadata": {},
   "outputs": [],
   "source": [
    "def chunks(lst, n):\n",
    "    \"\"\"Yield successive n-sized chunks from lst.\"\"\"\n",
    "    for i in range(0, len(lst), n):\n",
    "        yield lst[i:i + n]"
   ]
  },
  {
   "cell_type": "code",
   "execution_count": 204,
   "metadata": {},
   "outputs": [],
   "source": [
    "def chunks_list(lst, n):\n",
    "    \"\"\"Yield successive n-sized chunks from lst.\"\"\"\n",
    "    list = []\n",
    "    for i in range(0, len(lst), n):\n",
    "        list.append(lst[i:i + n])\n",
    "    return list"
   ]
  },
  {
   "cell_type": "code",
   "execution_count": 208,
   "metadata": {},
   "outputs": [
    {
     "data": {
      "text/plain": [
       "[[1, 5], [7, 8], [8, 9], [11]]"
      ]
     },
     "execution_count": 208,
     "metadata": {},
     "output_type": "execute_result"
    }
   ],
   "source": [
    "chunks_list([1,5,7,8,8,9,11], 2)"
   ]
  },
  {
   "cell_type": "code",
   "execution_count": null,
   "metadata": {},
   "outputs": [],
   "source": [
    "def search_artist(list_artist, lim = 5):\n",
    "    results = sp.search(q='Billie Eilish', limit = lim ,type = 'track', market=\"GB\")\n",
    "    return results\n",
    "\n",
    "def get_song_info(list_songs):\n",
    "    sp.tracks(list_songs)['tracks']\n",
    "\n",
    "def get_audio_feautures(list_songs):\n",
    "    list_chunked = chunks_list(list_songs,50)\n",
    "    df = pd.DataFrame()\n",
    "    for chunk in list_chunked:\n",
    "        audio_ft_list = sp.audio_features(chunk)\n",
    "        song_info_list = sp.tracks(chunk)['tracks']\n",
    "        for song in audio_ft_list:\n",
    "            song_info = {\n",
    "                        'artists': [song_info_list[song]['artists'][0]['name']],\n",
    "                        'name': [song_info_list[song]['name']]\n",
    "                        }\n",
    "            audio_ft_song = { key: [song[key]] for key in list(song.keys()) }\n",
    "            df = df.append(pd.DataFrame(song_info))\n",
    "            df = df.append(pd.DataFrame(audio_ft_song))\n",
    "    return df\n",
    "\n",
    "\n",
    "\n"
   ]
  },
  {
   "cell_type": "code",
   "execution_count": 298,
   "metadata": {},
   "outputs": [
    {
     "data": {
      "text/html": [
       "<div>\n",
       "<style scoped>\n",
       "    .dataframe tbody tr th:only-of-type {\n",
       "        vertical-align: middle;\n",
       "    }\n",
       "\n",
       "    .dataframe tbody tr th {\n",
       "        vertical-align: top;\n",
       "    }\n",
       "\n",
       "    .dataframe thead th {\n",
       "        text-align: right;\n",
       "    }\n",
       "</style>\n",
       "<table border=\"1\" class=\"dataframe\">\n",
       "  <thead>\n",
       "    <tr style=\"text-align: right;\">\n",
       "      <th></th>\n",
       "    </tr>\n",
       "  </thead>\n",
       "  <tbody>\n",
       "  </tbody>\n",
       "</table>\n",
       "</div>"
      ],
      "text/plain": [
       "Empty DataFrame\n",
       "Columns: []\n",
       "Index: []"
      ]
     },
     "execution_count": 298,
     "metadata": {},
     "output_type": "execute_result"
    }
   ],
   "source": [
    "df = pd.DataFrame()\n",
    "df\n"
   ]
  },
  {
   "cell_type": "code",
   "execution_count": 279,
   "metadata": {},
   "outputs": [
    {
     "name": "stdout",
     "output_type": "stream",
     "text": [
      "2\n",
      "7pLoI3XJLM67CGKAnOf5M5\n",
      "6cW3Rxm1sZpMuQinmiKjkG\n"
     ]
    },
    {
     "data": {
      "text/plain": [
       "['7pLoI3XJLM67CGKAnOf5M5', '6cW3Rxm1sZpMuQinmiKjkG']"
      ]
     },
     "execution_count": 279,
     "metadata": {},
     "output_type": "execute_result"
    }
   ],
   "source": [
    "results = sp.search(q='Nils Frahm', limit = 2 ,type = 'track', market=\"GB\")['tracks']['items']\n",
    "print(len(results))\n",
    "print(results[0]['id'])\n",
    "print(results[1]['id'])\n",
    "list_songs = []\n",
    "results = sp.search(q='Nils Frahm', limit = 2 ,type = 'track', market=\"GB\")['tracks']['items']\n",
    "for item in results:\n",
    "  #  print(item)\n",
    "    list_songs.append(item['id'])\n",
    "list_songs\n"
   ]
  },
  {
   "cell_type": "code",
   "execution_count": 288,
   "metadata": {},
   "outputs": [],
   "source": [
    "def search_artists_songs(list_artist, lim = 50):\n",
    "    '''\n",
    "    \n",
    "    '''\n",
    "    list_songs = []\n",
    "    for artist in list_artist:\n",
    "        results = sp.search(q=artist, limit = lim ,type = 'track', market=\"GB\")['tracks']['items']\n",
    "        for item in results:\n",
    "            list_songs.append(item['id'])\n",
    "    return list_songs\n",
    "\n",
    "def get_song_info(list_songs):\n",
    "    sp.tracks(list_songs)['tracks']\n",
    "\n",
    "def get_audio_feautures(list_songs):\n",
    "    list_chunked = chunks_list(list_songs,50)\n",
    "    df = pd.DataFrame()\n",
    "    for chunk in list_chunked:\n",
    "        audio_ft_list = sp.audio_features(chunk)\n",
    "        song_info_list = sp.tracks(chunk)['tracks']\n",
    "        for song in range(len(audio_ft_list)):\n",
    "            song_info = {\n",
    "                        'artists': [song_info_list[song]['artists'][0]['name']],\n",
    "                        'name': [song_info_list[song]['name']]\n",
    "                        }\n",
    "            audio_ft_song = { key: [audio_ft_list[song][key]] for key in list(audio_ft_list[song].keys()) }\n",
    "            df = df.append(pd.DataFrame({**song_info, **audio_ft_song}))\n",
    "            print(df.columns)\n",
    "    return df\n",
    "\n",
    "\n",
    "\n"
   ]
  },
  {
   "cell_type": "code",
   "execution_count": 289,
   "metadata": {},
   "outputs": [
    {
     "name": "stdout",
     "output_type": "stream",
     "text": [
      "Index(['artists', 'name', 'danceability', 'energy', 'key', 'loudness', 'mode',\n",
      "       'speechiness', 'acousticness', 'instrumentalness', 'liveness',\n",
      "       'valence', 'tempo', 'type', 'id', 'uri', 'track_href', 'analysis_url',\n",
      "       'duration_ms', 'time_signature'],\n",
      "      dtype='object')\n",
      "Index(['artists', 'name', 'danceability', 'energy', 'key', 'loudness', 'mode',\n",
      "       'speechiness', 'acousticness', 'instrumentalness', 'liveness',\n",
      "       'valence', 'tempo', 'type', 'id', 'uri', 'track_href', 'analysis_url',\n",
      "       'duration_ms', 'time_signature'],\n",
      "      dtype='object')\n"
     ]
    },
    {
     "data": {
      "text/html": [
       "<div>\n",
       "<style scoped>\n",
       "    .dataframe tbody tr th:only-of-type {\n",
       "        vertical-align: middle;\n",
       "    }\n",
       "\n",
       "    .dataframe tbody tr th {\n",
       "        vertical-align: top;\n",
       "    }\n",
       "\n",
       "    .dataframe thead th {\n",
       "        text-align: right;\n",
       "    }\n",
       "</style>\n",
       "<table border=\"1\" class=\"dataframe\">\n",
       "  <thead>\n",
       "    <tr style=\"text-align: right;\">\n",
       "      <th></th>\n",
       "      <th>artists</th>\n",
       "      <th>name</th>\n",
       "      <th>danceability</th>\n",
       "      <th>energy</th>\n",
       "      <th>key</th>\n",
       "      <th>loudness</th>\n",
       "      <th>mode</th>\n",
       "      <th>speechiness</th>\n",
       "      <th>acousticness</th>\n",
       "      <th>instrumentalness</th>\n",
       "      <th>liveness</th>\n",
       "      <th>valence</th>\n",
       "      <th>tempo</th>\n",
       "      <th>type</th>\n",
       "      <th>id</th>\n",
       "      <th>uri</th>\n",
       "      <th>track_href</th>\n",
       "      <th>analysis_url</th>\n",
       "      <th>duration_ms</th>\n",
       "      <th>time_signature</th>\n",
       "    </tr>\n",
       "  </thead>\n",
       "  <tbody>\n",
       "    <tr>\n",
       "      <th>0</th>\n",
       "      <td>Billie Eilish</td>\n",
       "      <td>Happier Than Ever</td>\n",
       "      <td>0.332</td>\n",
       "      <td>0.225</td>\n",
       "      <td>0</td>\n",
       "      <td>-8.697</td>\n",
       "      <td>1</td>\n",
       "      <td>0.0348</td>\n",
       "      <td>0.767</td>\n",
       "      <td>0.00349</td>\n",
       "      <td>0.128</td>\n",
       "      <td>0.297</td>\n",
       "      <td>81.055</td>\n",
       "      <td>audio_features</td>\n",
       "      <td>4RVwu0g32PAqgUiJoXsdF8</td>\n",
       "      <td>spotify:track:4RVwu0g32PAqgUiJoXsdF8</td>\n",
       "      <td>https://api.spotify.com/v1/tracks/4RVwu0g32PAq...</td>\n",
       "      <td>https://api.spotify.com/v1/audio-analysis/4RVw...</td>\n",
       "      <td>298899</td>\n",
       "      <td>3</td>\n",
       "    </tr>\n",
       "    <tr>\n",
       "      <th>0</th>\n",
       "      <td>Billie Eilish</td>\n",
       "      <td>bad guy</td>\n",
       "      <td>0.701</td>\n",
       "      <td>0.425</td>\n",
       "      <td>7</td>\n",
       "      <td>-10.965</td>\n",
       "      <td>1</td>\n",
       "      <td>0.3750</td>\n",
       "      <td>0.328</td>\n",
       "      <td>0.13000</td>\n",
       "      <td>0.100</td>\n",
       "      <td>0.562</td>\n",
       "      <td>135.128</td>\n",
       "      <td>audio_features</td>\n",
       "      <td>2Fxmhks0bxGSBdJ92vM42m</td>\n",
       "      <td>spotify:track:2Fxmhks0bxGSBdJ92vM42m</td>\n",
       "      <td>https://api.spotify.com/v1/tracks/2Fxmhks0bxGS...</td>\n",
       "      <td>https://api.spotify.com/v1/audio-analysis/2Fxm...</td>\n",
       "      <td>194088</td>\n",
       "      <td>4</td>\n",
       "    </tr>\n",
       "  </tbody>\n",
       "</table>\n",
       "</div>"
      ],
      "text/plain": [
       "         artists               name  ...  duration_ms  time_signature\n",
       "0  Billie Eilish  Happier Than Ever  ...       298899               3\n",
       "0  Billie Eilish            bad guy  ...       194088               4\n",
       "\n",
       "[2 rows x 20 columns]"
      ]
     },
     "execution_count": 289,
     "metadata": {},
     "output_type": "execute_result"
    }
   ],
   "source": [
    "list_songs =['https://open.spotify.com/track/4RVwu0g32PAqgUiJoXsdF8','spotify:track:2Fxmhks0bxGSBdJ92vM42m']\n",
    "list_artists = ['jhj,v mnv','Bad']#\n",
    "#sp.tracks(list_songs)['tracks'][0]['artists'][0]['name']\n",
    "#get_audio_feautures(list_songs)\n",
    "search_artists_songs(list_artists)\n",
    "get_audio_feautures(list_songs)\n"
   ]
  },
  {
   "cell_type": "code",
   "execution_count": null,
   "metadata": {},
   "outputs": [],
   "source": [
    "'disc_number': 1,\n",
    " 'duration_ms': 298899,\n",
    " 'explicit': True,\n",
    " 'external_ids': {'isrc': 'USUM72105936'},\n",
    " 'external_urls': {'spotify': 'https://open.spotify.com/track/4RVwu0g32PAqgUiJoXsdF8'},\n",
    " 'href': 'https://api.spotify.com/v1/tracks/4RVwu0g32PAqgUiJoXsdF8',\n",
    " 'id': '4RVwu0g32PAqgUiJoXsdF8',\n",
    " 'is_local': False,\n",
    " 'name': 'Happier Than Ever',\n",
    " 'popularity': 93,\n",
    " 'preview_url': None,\n",
    " 'track_number': 15,\n",
    " 'type': 'track',\n",
    " 'uri': 'spotify:track:4RVwu0g32PAqgUiJoXsdF8'"
   ]
  },
  {
   "cell_type": "code",
   "execution_count": 178,
   "metadata": {},
   "outputs": [
    {
     "data": {
      "text/plain": [
       "{'danceability': 0.332,\n",
       " 'energy': 0.225,\n",
       " 'key': 0,\n",
       " 'loudness': -8.697,\n",
       " 'mode': 1,\n",
       " 'speechiness': 0.0348,\n",
       " 'acousticness': 0.767,\n",
       " 'instrumentalness': 0.00349,\n",
       " 'liveness': 0.128,\n",
       " 'valence': 0.297,\n",
       " 'tempo': 81.055,\n",
       " 'type': 'audio_features',\n",
       " 'id': '4RVwu0g32PAqgUiJoXsdF8',\n",
       " 'uri': 'spotify:track:4RVwu0g32PAqgUiJoXsdF8',\n",
       " 'track_href': 'https://api.spotify.com/v1/tracks/4RVwu0g32PAqgUiJoXsdF8',\n",
       " 'analysis_url': 'https://api.spotify.com/v1/audio-analysis/4RVwu0g32PAqgUiJoXsdF8',\n",
       " 'duration_ms': 298899,\n",
       " 'time_signature': 3}"
      ]
     },
     "execution_count": 178,
     "metadata": {},
     "output_type": "execute_result"
    }
   ],
   "source": [
    "df = pd.DataFrame()\n",
    "audio_ft_dic = {'danceability': 0.332, 'energy': 0.225, 'key': 0, 'loudness': -8.697, 'mode': 1, 'speechiness': 0.0348, 'acousticness': 0.767, 'instrumentalness': 0.00349, 'liveness': 0.128, 'valence': 0.297, 'tempo': 81.055, 'type': 'audio_features', 'id': '4RVwu0g32PAqgUiJoXsdF8', 'uri': 'spotify:track:4RVwu0g32PAqgUiJoXsdF8', 'track_href': 'https://api.spotify.com/v1/tracks/4RVwu0g32PAqgUiJoXsdF8', 'analysis_url': 'https://api.spotify.com/v1/audio-analysis/4RVwu0g32PAqgUiJoXsdF8', 'duration_ms': 298899, 'time_signature': 3}\n",
    "audio_ft_dic"
   ]
  },
  {
   "cell_type": "code",
   "execution_count": 179,
   "metadata": {},
   "outputs": [],
   "source": [
    "df = pd.DataFrame({'danceability': [0.332], 'energy': [0.225]})"
   ]
  },
  {
   "cell_type": "code",
   "execution_count": 174,
   "metadata": {},
   "outputs": [
    {
     "data": {
      "text/html": [
       "<div>\n",
       "<style scoped>\n",
       "    .dataframe tbody tr th:only-of-type {\n",
       "        vertical-align: middle;\n",
       "    }\n",
       "\n",
       "    .dataframe tbody tr th {\n",
       "        vertical-align: top;\n",
       "    }\n",
       "\n",
       "    .dataframe thead th {\n",
       "        text-align: right;\n",
       "    }\n",
       "</style>\n",
       "<table border=\"1\" class=\"dataframe\">\n",
       "  <thead>\n",
       "    <tr style=\"text-align: right;\">\n",
       "      <th></th>\n",
       "      <th>danceability</th>\n",
       "      <th>energy</th>\n",
       "    </tr>\n",
       "  </thead>\n",
       "  <tbody>\n",
       "    <tr>\n",
       "      <th>0</th>\n",
       "      <td>0.332</td>\n",
       "      <td>0.225</td>\n",
       "    </tr>\n",
       "    <tr>\n",
       "      <th>0</th>\n",
       "      <td>0.332</td>\n",
       "      <td>0.225</td>\n",
       "    </tr>\n",
       "  </tbody>\n",
       "</table>\n",
       "</div>"
      ],
      "text/plain": [
       "   danceability  energy\n",
       "0         0.332   0.225\n",
       "0         0.332   0.225"
      ]
     },
     "execution_count": 174,
     "metadata": {},
     "output_type": "execute_result"
    }
   ],
   "source": [
    "df = df.append(pd.DataFrame({'danceability': [0.332], 'energy': [0.225]}))\n",
    "df"
   ]
  },
  {
   "cell_type": "code",
   "execution_count": null,
   "metadata": {},
   "outputs": [],
   "source": [
    "\n",
    "    "
   ]
  },
  {
   "cell_type": "code",
   "execution_count": 175,
   "metadata": {},
   "outputs": [],
   "source": [
    "list_songs =['https://open.spotify.com/track/4RVwu0g32PAqgUiJoXsdF8','spotify:track:2Fxmhks0bxGSBdJ92vM42m']\n",
    "get_audio_feautures(list_songs)\n",
    "#sp.audio_features(list_songs)"
   ]
  },
  {
   "cell_type": "code",
   "execution_count": 176,
   "metadata": {},
   "outputs": [
    {
     "ename": "TypeError",
     "evalue": "list indices must be integers or slices, not dict",
     "output_type": "error",
     "traceback": [
      "\u001b[1;31m---------------------------------------------------------------------------\u001b[0m",
      "\u001b[1;31mTypeError\u001b[0m                                 Traceback (most recent call last)",
      "\u001b[1;32m~\\AppData\\Local\\Temp/ipykernel_7448/1943882508.py\u001b[0m in \u001b[0;36m<module>\u001b[1;34m\u001b[0m\n\u001b[1;32m----> 1\u001b[1;33m \u001b[0mget_audio_feautures\u001b[0m\u001b[1;33m(\u001b[0m\u001b[0mlist_songs\u001b[0m\u001b[1;33m)\u001b[0m\u001b[1;33m\u001b[0m\u001b[1;33m\u001b[0m\u001b[0m\n\u001b[0m",
      "\u001b[1;32m~\\AppData\\Local\\Temp/ipykernel_7448/1231751207.py\u001b[0m in \u001b[0;36mget_audio_feautures\u001b[1;34m(list_songs)\u001b[0m\n\u001b[0;32m      7\u001b[0m     \u001b[0maudio_ft_dic\u001b[0m \u001b[1;33m=\u001b[0m \u001b[0msp\u001b[0m\u001b[1;33m.\u001b[0m\u001b[0maudio_features\u001b[0m\u001b[1;33m(\u001b[0m\u001b[0mlist_songs\u001b[0m\u001b[1;33m)\u001b[0m\u001b[1;33m\u001b[0m\u001b[1;33m\u001b[0m\u001b[0m\n\u001b[0;32m      8\u001b[0m     \u001b[1;32mfor\u001b[0m \u001b[0msong\u001b[0m \u001b[1;32min\u001b[0m \u001b[0maudio_ft_dic\u001b[0m\u001b[1;33m:\u001b[0m\u001b[1;33m\u001b[0m\u001b[1;33m\u001b[0m\u001b[0m\n\u001b[1;32m----> 9\u001b[1;33m         \u001b[0maudio_ft_song\u001b[0m \u001b[1;33m=\u001b[0m \u001b[1;33m{\u001b[0m \u001b[0mkey\u001b[0m\u001b[1;33m:\u001b[0m \u001b[0maudio_ft_dic\u001b[0m\u001b[1;33m[\u001b[0m\u001b[0msong\u001b[0m\u001b[1;33m]\u001b[0m\u001b[1;33m[\u001b[0m\u001b[0mkey\u001b[0m\u001b[1;33m]\u001b[0m \u001b[1;32mfor\u001b[0m \u001b[0mkey\u001b[0m \u001b[1;32min\u001b[0m \u001b[0mlist\u001b[0m\u001b[1;33m(\u001b[0m\u001b[0maudio_ft_dic\u001b[0m\u001b[1;33m[\u001b[0m\u001b[0msong\u001b[0m\u001b[1;33m]\u001b[0m\u001b[1;33m.\u001b[0m\u001b[0mkeys\u001b[0m\u001b[1;33m(\u001b[0m\u001b[1;33m)\u001b[0m\u001b[1;33m)\u001b[0m \u001b[1;33m}\u001b[0m\u001b[1;33m\u001b[0m\u001b[1;33m\u001b[0m\u001b[0m\n\u001b[0m\u001b[0;32m     10\u001b[0m         \u001b[0mprint\u001b[0m\u001b[1;33m(\u001b[0m\u001b[0maudio_ft_song\u001b[0m\u001b[1;33m)\u001b[0m\u001b[1;33m\u001b[0m\u001b[1;33m\u001b[0m\u001b[0m\n\u001b[0;32m     11\u001b[0m         \u001b[0mdf\u001b[0m \u001b[1;33m=\u001b[0m \u001b[0mdf\u001b[0m\u001b[1;33m.\u001b[0m\u001b[0mappend\u001b[0m\u001b[1;33m(\u001b[0m\u001b[0mpd\u001b[0m\u001b[1;33m.\u001b[0m\u001b[0mDataFrame\u001b[0m\u001b[1;33m(\u001b[0m\u001b[0maudio_ft_song\u001b[0m\u001b[1;33m)\u001b[0m\u001b[1;33m)\u001b[0m\u001b[1;33m\u001b[0m\u001b[1;33m\u001b[0m\u001b[0m\n",
      "\u001b[1;31mTypeError\u001b[0m: list indices must be integers or slices, not dict"
     ]
    }
   ],
   "source": []
  },
  {
   "cell_type": "code",
   "execution_count": null,
   "metadata": {},
   "outputs": [],
   "source": [
    "\n",
    "# my_dict = sp.audio_features(song[\"tracks\"][\"items\"][0][\"uri\"])[0] # you can provide a list of uri's\n",
    "\n",
    "# print(my_dict)\n",
    "# my_dict_new = { key: [my_dict[key]] for key in list(my_dict.keys()) }\n",
    "# #my_dict_new['name'] = [song[\"tracks\"][\"items\"][0]['name']]\n",
    "# print(my_dict_new)\n",
    "\n",
    "# pd.DataFrame(my_dict_new)\n",
    "\n",
    "# my_artists = ['Placebo','Marylin Manson','Janis Joplin']\n",
    "\n",
    "# my_dict = {}\n",
    "# #for artist in my_artists:\n",
    "# #    #result = sp.search(q=artist, limit= 50)\n",
    "# #    my_dict[artist] = sp.search(q=artist, limit= 50)\n",
    "\n",
    "# my_dict = {artist: sp.search(q=artist, limit= 50,market=\"GB\") for artist in my_artists}\n",
    "# #my_dict\n",
    "# my_dict.keys()"
   ]
  },
  {
   "cell_type": "code",
   "execution_count": 300,
   "metadata": {},
   "outputs": [],
   "source": [
    "import pandas as pd\n",
    "import spotipy\n"
   ]
  },
  {
   "cell_type": "code",
   "execution_count": 303,
   "metadata": {},
   "outputs": [],
   "source": [
    "test = ['3RMuJ4qdkgs71mBNbPpZu0',\n",
    " '7pj8Iw9leffePdIHypG8uU',\n",
    " '7fR4QS2A3b69J7lPDESaJs',\n",
    " '26UAHeMVqrtWcoSXyo5qlq']"
   ]
  },
  {
   "cell_type": "code",
   "execution_count": 306,
   "metadata": {},
   "outputs": [],
   "source": [
    "\n",
    "def get_audio_feautures(list_songs):\n",
    "    '''\n",
    "    Get DataFrame with song-info and -audiofeatures for a list of song-IDs.\n",
    "\n",
    "    Parameters\n",
    "    ----------\n",
    "    list_songs : list\n",
    "        Songs to save song-info and -audiofeatures\n",
    "\n",
    "    Returns\n",
    "    -------\n",
    "    Dataframe: \n",
    "        columns = ['artists', 'name', 'danceability', 'energy', 'key', 'loudness', 'mode',\n",
    "       'speechiness', 'acousticness', 'instrumentalness', 'liveness',\n",
    "       'valence', 'tempo', 'type', 'id', 'uri', 'track_href', 'analysis_url',\n",
    "       'duration_ms', 'time_signature']        \n",
    "    '''\n",
    "    print('start')\n",
    "    list_chunked = chunks_list(list_songs,50)\n",
    "    print(list_chunked)\n",
    "    df = pd.DataFrame()\n",
    "    counter = 0\n",
    "    for chunk in tqdm(list_chunked):\n",
    "        counter += 1\n",
    "        print(chunk)\n",
    "        # try:    \n",
    "        #     audio_ft_list = sp.audio_features(chunk)\n",
    "        #     song_info_list = sp.tracks(chunk)['tracks']\n",
    "        #     print(song_info_list,audio_ft_list)\n",
    "        #     for song in tqdm(range(len(audio_ft_list))):\n",
    "        #         print(song_info_list[song],audio_ft_list[song])\n",
    "        #         try:\n",
    "        #             if len(song_info_list[song]) >= 0 and len(audio_ft_list[song]) >= 0:\n",
    "        #                 print(song_info_list[song],audio_ft_list[song])\n",
    "        #                 song_info = {\n",
    "        #                         'artists': [song_info_list[song]['artists'][0]['name']],\n",
    "        #                         'name': [song_info_list[song]['name']]\n",
    "        #                         }\n",
    "        #                 try:\n",
    "        #                     audio_ft_song = { key: [audio_ft_list[song][key]] for key in list(audio_ft_list[song].keys()) }\n",
    "        #                     df = df.append(pd.DataFrame({**song_info, **audio_ft_song}))\n",
    "        #                 except:\n",
    "        #                     print('error in audio_ft',audio_ft_list[song])\n",
    "        #                     print('key:',song)\n",
    "        #                     continue\n",
    "        #         except:\n",
    "        #             print('error in song_info:',song_info_list[song])\n",
    "        #             print('key:',song)   \n",
    "        #             continue\n",
    "        # except:\n",
    "        #     print('Problems with chunk:',chunk,'counter')\n",
    "        #     continue\n",
    "    return df"
   ]
  },
  {
   "cell_type": "code",
   "execution_count": 307,
   "metadata": {},
   "outputs": [
    {
     "name": "stdout",
     "output_type": "stream",
     "text": [
      "start\n",
      "[['3RMuJ4qdkgs71mBNbPpZu0', '7pj8Iw9leffePdIHypG8uU', '7fR4QS2A3b69J7lPDESaJs', '26UAHeMVqrtWcoSXyo5qlq']]\n"
     ]
    },
    {
     "name": "stderr",
     "output_type": "stream",
     "text": [
      "100%|██████████| 1/1 [00:00<?, ?it/s]"
     ]
    },
    {
     "name": "stdout",
     "output_type": "stream",
     "text": [
      "['3RMuJ4qdkgs71mBNbPpZu0', '7pj8Iw9leffePdIHypG8uU', '7fR4QS2A3b69J7lPDESaJs', '26UAHeMVqrtWcoSXyo5qlq']\n"
     ]
    },
    {
     "name": "stderr",
     "output_type": "stream",
     "text": [
      "\n"
     ]
    },
    {
     "data": {
      "text/html": [
       "<div>\n",
       "<style scoped>\n",
       "    .dataframe tbody tr th:only-of-type {\n",
       "        vertical-align: middle;\n",
       "    }\n",
       "\n",
       "    .dataframe tbody tr th {\n",
       "        vertical-align: top;\n",
       "    }\n",
       "\n",
       "    .dataframe thead th {\n",
       "        text-align: right;\n",
       "    }\n",
       "</style>\n",
       "<table border=\"1\" class=\"dataframe\">\n",
       "  <thead>\n",
       "    <tr style=\"text-align: right;\">\n",
       "      <th></th>\n",
       "    </tr>\n",
       "  </thead>\n",
       "  <tbody>\n",
       "  </tbody>\n",
       "</table>\n",
       "</div>"
      ],
      "text/plain": [
       "Empty DataFrame\n",
       "Columns: []\n",
       "Index: []"
      ]
     },
     "execution_count": 307,
     "metadata": {},
     "output_type": "execute_result"
    }
   ],
   "source": [
    "get_audio_feautures(test)"
   ]
  },
  {
   "cell_type": "code",
   "execution_count": 6,
   "metadata": {},
   "outputs": [],
   "source": [
    "import numpy as np"
   ]
  },
  {
   "cell_type": "code",
   "execution_count": 9,
   "metadata": {},
   "outputs": [],
   "source": [
    "list = [1.78,\n",
    "1.78, \n",
    "1.78,\n",
    "1.78,\n",
    "1.825, \n",
    "\n",
    "\n",
    "\n",
    "\n",
    "\n",
    "\n",
    "]"
   ]
  },
  {
   "cell_type": "code",
   "execution_count": 10,
   "metadata": {},
   "outputs": [
    {
     "data": {
      "text/plain": [
       "1.8116666666666665"
      ]
     },
     "execution_count": 10,
     "metadata": {},
     "output_type": "execute_result"
    }
   ],
   "source": [
    "np.mean(list)"
   ]
  },
  {
   "cell_type": "code",
   "execution_count": 8,
   "metadata": {},
   "outputs": [],
   "source": [
    "import pandas as pd"
   ]
  },
  {
   "cell_type": "code",
   "execution_count": 15,
   "metadata": {},
   "outputs": [
    {
     "data": {
      "text/html": [
       "<div>\n",
       "<style scoped>\n",
       "    .dataframe tbody tr th:only-of-type {\n",
       "        vertical-align: middle;\n",
       "    }\n",
       "\n",
       "    .dataframe tbody tr th {\n",
       "        vertical-align: top;\n",
       "    }\n",
       "\n",
       "    .dataframe thead th {\n",
       "        text-align: right;\n",
       "    }\n",
       "</style>\n",
       "<table border=\"1\" class=\"dataframe\">\n",
       "  <thead>\n",
       "    <tr style=\"text-align: right;\">\n",
       "      <th></th>\n",
       "      <th>a</th>\n",
       "    </tr>\n",
       "  </thead>\n",
       "  <tbody>\n",
       "    <tr>\n",
       "      <th>0</th>\n",
       "      <td>aa</td>\n",
       "    </tr>\n",
       "    <tr>\n",
       "      <th>1</th>\n",
       "      <td>aaa</td>\n",
       "    </tr>\n",
       "    <tr>\n",
       "      <th>2</th>\n",
       "      <td>aaron</td>\n",
       "    </tr>\n",
       "    <tr>\n",
       "      <th>3</th>\n",
       "      <td>ab</td>\n",
       "    </tr>\n",
       "    <tr>\n",
       "      <th>4</th>\n",
       "      <td>abandoned</td>\n",
       "    </tr>\n",
       "    <tr>\n",
       "      <th>...</th>\n",
       "      <td>...</td>\n",
       "    </tr>\n",
       "    <tr>\n",
       "      <th>9994</th>\n",
       "      <td>zope</td>\n",
       "    </tr>\n",
       "    <tr>\n",
       "      <th>9995</th>\n",
       "      <td>zshops</td>\n",
       "    </tr>\n",
       "    <tr>\n",
       "      <th>9996</th>\n",
       "      <td>zu</td>\n",
       "    </tr>\n",
       "    <tr>\n",
       "      <th>9997</th>\n",
       "      <td>zum</td>\n",
       "    </tr>\n",
       "    <tr>\n",
       "      <th>9998</th>\n",
       "      <td>zus</td>\n",
       "    </tr>\n",
       "  </tbody>\n",
       "</table>\n",
       "<p>9999 rows × 1 columns</p>\n",
       "</div>"
      ],
      "text/plain": [
       "              a\n",
       "0            aa\n",
       "1           aaa\n",
       "2         aaron\n",
       "3            ab\n",
       "4     abandoned\n",
       "...         ...\n",
       "9994       zope\n",
       "9995     zshops\n",
       "9996         zu\n",
       "9997        zum\n",
       "9998        zus\n",
       "\n",
       "[9999 rows x 1 columns]"
      ]
     },
     "execution_count": 15,
     "metadata": {},
     "output_type": "execute_result"
    }
   ],
   "source": [
    "pd.read_csv('data/list_10000words.csv')"
   ]
  },
  {
   "cell_type": "code",
   "execution_count": null,
   "metadata": {},
   "outputs": [],
   "source": []
  }
 ],
 "metadata": {
  "interpreter": {
   "hash": "bfcfd5de7629ab692414048eb27291efd7d2258e9194efee115e7dde625bb37e"
  },
  "kernelspec": {
   "display_name": "Python 3.9.6 64-bit ('DA_Env': conda)",
   "language": "python",
   "name": "python3"
  },
  "language_info": {
   "codemirror_mode": {
    "name": "ipython",
    "version": 3
   },
   "file_extension": ".py",
   "mimetype": "text/x-python",
   "name": "python",
   "nbconvert_exporter": "python",
   "pygments_lexer": "ipython3",
   "version": "3.9.6"
  },
  "orig_nbformat": 4
 },
 "nbformat": 4,
 "nbformat_minor": 2
}
