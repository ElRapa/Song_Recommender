{
 "cells": [
  {
   "cell_type": "code",
   "execution_count": 1,
   "metadata": {},
   "outputs": [],
   "source": [
    "import ux\n",
    "import pandas as pd     \n",
    "import spotipy\n",
    "from spotipy.oauth2 import SpotifyClientCredentials\n",
    "from IPython.display import IFrame\n",
    "\n",
    "\n",
    "import secrets"
   ]
  },
  {
   "cell_type": "code",
   "execution_count": 2,
   "metadata": {},
   "outputs": [],
   "source": [
    "load_dfs = False"
   ]
  },
  {
   "cell_type": "code",
   "execution_count": 3,
   "metadata": {},
   "outputs": [],
   "source": [
    "if load_dfs:\n",
    "    df_audiofeatures = pd.read_csv('data/audio_features.csv')\n",
    "    top100 = pd.read_csv('data/billboard_top100.csv')\n"
   ]
  },
  {
   "cell_type": "code",
   "execution_count": 4,
   "metadata": {},
   "outputs": [],
   "source": [
    "sp = spotipy.Spotify(auth_manager=SpotifyClientCredentials(client_id= secrets.Client_ID,\n",
    "                                                           client_secret= secrets.Client_Secret))"
   ]
  },
  {
   "cell_type": "code",
   "execution_count": 5,
   "metadata": {},
   "outputs": [
    {
     "name": "stdout",
     "output_type": "stream",
     "text": [
      "Give it to me baby! Give me a song: yes\n",
      "Did you mean 'Yes' by 'Beyoncé'? Type yes or noyes\n",
      "Oh, that's a nice one!\n",
      "Maybe you'll like 'Nicest Doctor Pt.1' by 'FredsVoice ASMR'? Type yes or nono\n",
      "Maybe you'll like 'Hadad' by 'YNY Sebi'? Type yes or nono\n",
      "Maybe you'll like 'Krusty Krab Spongebob Trap Remix Vine Theme' by 'William Jacobs'? Type yes or nono\n",
      "Maybe you'll like 'Same Hood' by 'Only The Family'? Type yes or noyes\n"
     ]
    }
   ],
   "source": [
    "track_id = ux.recommend()\n"
   ]
  },
  {
   "cell_type": "code",
   "execution_count": 6,
   "metadata": {},
   "outputs": [
    {
     "data": {
      "text/html": [
       "\n",
       "        <iframe\n",
       "            width=\"320\"\n",
       "            height=\"80\"\n",
       "            src=\"https://open.spotify.com/embed/track/7pwZrhH1OEJW0zCJeezQLO?frameborder=0&allowtransparency=true&allow=encrypted-media\"\n",
       "            frameborder=\"0\"\n",
       "            allowfullscreen\n",
       "            \n",
       "        ></iframe>\n",
       "        "
      ],
      "text/plain": [
       "<IPython.lib.display.IFrame at 0x2586d060940>"
      ]
     },
     "execution_count": 6,
     "metadata": {},
     "output_type": "execute_result"
    }
   ],
   "source": [
    "IFrame(src=f\"https://open.spotify.com/embed/track/{track_id}\",\n",
    "    width=\"320\",\n",
    "    height=\"80\",\n",
    "    frameborder=\"0\",\n",
    "    allowtransparency=\"true\",\n",
    "    allow=\"encrypted-media\",\n",
    "    )"
   ]
  },
  {
   "cell_type": "code",
   "execution_count": null,
   "metadata": {},
   "outputs": [],
   "source": []
  }
 ],
 "metadata": {
  "interpreter": {
   "hash": "bfcfd5de7629ab692414048eb27291efd7d2258e9194efee115e7dde625bb37e"
  },
  "kernelspec": {
   "display_name": "Python 3 (ipykernel)",
   "language": "python",
   "name": "python3"
  },
  "language_info": {
   "codemirror_mode": {
    "name": "ipython",
    "version": 3
   },
   "file_extension": ".py",
   "mimetype": "text/x-python",
   "name": "python",
   "nbconvert_exporter": "python",
   "pygments_lexer": "ipython3",
   "version": "3.9.6"
  }
 },
 "nbformat": 4,
 "nbformat_minor": 2
}
