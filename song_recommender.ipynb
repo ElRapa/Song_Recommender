{
 "cells": [
  {
   "cell_type": "markdown",
   "metadata": {},
   "source": [
    "# Song Recommender\n",
    "Recommends song based on one song.\n",
    "1. If it's a popular song: recommend another popular song\n",
    "2. If it's not a popular song: recommend simmilar song"
   ]
  },
  {
   "cell_type": "markdown",
   "metadata": {},
   "source": [
    "## 1. Setup"
   ]
  },
  {
   "cell_type": "markdown",
   "metadata": {},
   "source": [
    "### 1.1 Import Libraries"
   ]
  },
  {
   "cell_type": "code",
   "execution_count": 1,
   "metadata": {},
   "outputs": [
    {
     "ename": "SyntaxError",
     "evalue": "invalid syntax (secrets.py, line 1)",
     "output_type": "error",
     "traceback": [
      "Traceback \u001b[1;36m(most recent call last)\u001b[0m:\n",
      "  File \u001b[0;32m\"C:\\ProgramData\\Anaconda3\\envs\\DA_Env\\lib\\site-packages\\IPython\\core\\interactiveshell.py\"\u001b[0m, line \u001b[0;32m3444\u001b[0m, in \u001b[0;35mrun_code\u001b[0m\n    exec(code_obj, self.user_global_ns, self.user_ns)\n",
      "  File \u001b[0;32m\"C:\\Users\\Raphael\\AppData\\Local\\Temp/ipykernel_14164/4007086268.py\"\u001b[0m, line \u001b[0;32m1\u001b[0m, in \u001b[0;35m<module>\u001b[0m\n    import pandas as pd\n",
      "  File \u001b[0;32m\"C:\\ProgramData\\Anaconda3\\envs\\DA_Env\\lib\\site-packages\\pandas\\__init__.py\"\u001b[0m, line \u001b[0;32m11\u001b[0m, in \u001b[0;35m<module>\u001b[0m\n    __import__(dependency)\n",
      "  File \u001b[0;32m\"C:\\ProgramData\\Anaconda3\\envs\\DA_Env\\lib\\site-packages\\numpy\\__init__.py\"\u001b[0m, line \u001b[0;32m161\u001b[0m, in \u001b[0;35m<module>\u001b[0m\n    from . import random\n",
      "  File \u001b[0;32m\"C:\\ProgramData\\Anaconda3\\envs\\DA_Env\\lib\\site-packages\\numpy\\random\\__init__.py\"\u001b[0m, line \u001b[0;32m180\u001b[0m, in \u001b[0;35m<module>\u001b[0m\n    from . import _pickle\n",
      "  File \u001b[0;32m\"C:\\ProgramData\\Anaconda3\\envs\\DA_Env\\lib\\site-packages\\numpy\\random\\_pickle.py\"\u001b[0m, line \u001b[0;32m1\u001b[0m, in \u001b[0;35m<module>\u001b[0m\n    from .mtrand import RandomState\n",
      "  File \u001b[0;32m\"mtrand.pyx\"\u001b[0m, line \u001b[0;32m1\u001b[0m, in \u001b[0;35minit numpy.random.mtrand\u001b[0m\n",
      "\u001b[1;36m  File \u001b[1;32m\"bit_generator.pyx\"\u001b[1;36m, line \u001b[1;32m40\u001b[1;36m, in \u001b[1;35minit numpy.random.bit_generator\u001b[1;36m\u001b[0m\n",
      "\u001b[1;36m  File \u001b[1;32m\"d:\\91 - Code\\10 - Github\\10 - Ironhack\\SongRecommender_2\\secrets.py\"\u001b[1;36m, line \u001b[1;32m1\u001b[0m\n\u001b[1;33m    Client_ID\tde0334c5272649728be655a8a6b327e0\u001b[0m\n\u001b[1;37m             \t^\u001b[0m\n\u001b[1;31mSyntaxError\u001b[0m\u001b[1;31m:\u001b[0m invalid syntax\n"
     ]
    }
   ],
   "source": [
    "import pandas as pd\n",
    "import numpy as np\n",
    "import requests\n",
    "from bs4 import BeautifulSoup"
   ]
  },
  {
   "cell_type": "markdown",
   "metadata": {},
   "source": [
    "## 2 Create dataframe with popular songs and function to compare Input with song-list"
   ]
  },
  {
   "cell_type": "code",
   "execution_count": null,
   "metadata": {},
   "outputs": [],
   "source": [
    "def scrape_top100():\n",
    "    ### 2.1 Get and parse data from billboard.com \n",
    "    url = 'https://www.billboard.com/charts/hot-100/'\n",
    "    response = requests.get(url)\n",
    "    soup = BeautifulSoup(response.text, 'html.parser')\n",
    "    ### 2.2 Scrape raw list of songs and artist\n",
    "    list_song_raw = soup.select('.o-chart-results-list__item .c-title')\n",
    "    list_song = []\n",
    "    list_artist_raw = soup.select('.o-chart-results-list__item .c-label.a-no-trucate')\n",
    "    list_artist = []\n",
    "    ### 2.3 Clean strings and save to list\n",
    "    for n in list_artist_raw:\n",
    "        list_artist.append(n.get_text()[1:-1])\n",
    "    len(list_artist)\n",
    "    for n in list_song_raw:\n",
    "        list_song.append(n.get_text()[1:-1])\n",
    "    len(list_song)\n",
    "    ### 2.4 Merge song- and artist-list to DataFrame\n",
    "    df = pd.DataFrame({'song':list_song,'artist':list_artist})\n",
    "    return df\n"
   ]
  },
  {
   "cell_type": "code",
   "execution_count": null,
   "metadata": {},
   "outputs": [],
   "source": [
    "def recommend_song():\n",
    "    song = input('What song do you want a recommendation for? ')\n",
    "    df = scrape_top100()\n",
    "    if song not in list(df.song):\n",
    "        print('Möp.',song,'is not in the Top100!')\n",
    "    else:\n",
    "        recommendation = df.sample()\n",
    "        print('Hot Tune! What about \"'+ recommendation.iloc[0,0]+'\" by \"'+ recommendation.iloc[0,1]+'\"?')"
   ]
  }
 ],
 "metadata": {
  "interpreter": {
   "hash": "bfcfd5de7629ab692414048eb27291efd7d2258e9194efee115e7dde625bb37e"
  },
  "kernelspec": {
   "display_name": "Python 3.9.6 64-bit ('DA_Env': conda)",
   "language": "python",
   "name": "python3"
  },
  "language_info": {
   "codemirror_mode": {
    "name": "ipython",
    "version": 3
   },
   "file_extension": ".py",
   "mimetype": "text/x-python",
   "name": "python",
   "nbconvert_exporter": "python",
   "pygments_lexer": "ipython3",
   "version": "3.9.6"
  },
  "orig_nbformat": 4
 },
 "nbformat": 4,
 "nbformat_minor": 2
}
