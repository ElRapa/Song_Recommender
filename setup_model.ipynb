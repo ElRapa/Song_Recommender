{
 "cells": [
  {
   "cell_type": "markdown",
   "metadata": {},
   "source": [
    "# Song recommender"
   ]
  },
  {
   "cell_type": "code",
   "execution_count": null,
   "metadata": {},
   "outputs": [],
   "source": []
  },
  {
   "cell_type": "code",
   "execution_count": 1,
   "metadata": {},
   "outputs": [],
   "source": [
    "import pandas as pd\n",
    "import numpy as np\n",
    "\n",
    "import spotipy\n",
    "import pickle\n",
    "from tqdm.auto import tqdm\n",
    "\n",
    "import modelling\n",
    "import ux\n",
    "import scraping as sc\n",
    "import helper_functions as hf\n",
    "import data_handler as dh\n",
    "import spotifyhandler as sh\n",
    "\n",
    "from matplotlib import pyplot\n",
    "from sklearn.metrics import silhouette_score\n",
    "\n",
    "from sklearn.cluster import KMeans\n",
    "from sklearn.preprocessing import StandardScaler\n",
    "from yellowbrick.cluster import SilhouetteVisualizer"
   ]
  },
  {
   "cell_type": "code",
   "execution_count": 2,
   "metadata": {},
   "outputs": [],
   "source": [
    "# Run Marker\n",
    "update_bb_top100 = False\n",
    "update_wiki_artist = False\n",
    "update_song_list = False\n",
    "update_audio_features = False\n",
    "create_words_list = False\n",
    "train_kmean = False\n",
    "fit_scaler = True"
   ]
  },
  {
   "cell_type": "code",
   "execution_count": 3,
   "metadata": {},
   "outputs": [],
   "source": [
    "# Load existing files\n"
   ]
  },
  {
   "cell_type": "code",
   "execution_count": 4,
   "metadata": {},
   "outputs": [],
   "source": [
    "#sc.recommend_song()"
   ]
  },
  {
   "cell_type": "code",
   "execution_count": 5,
   "metadata": {},
   "outputs": [],
   "source": [
    "if update_wiki_artist:\n",
    "    artist_Series = sc.load_or_scrape('wiki_artist')['artists']\n",
    "    artist_list = list(artist_Series)"
   ]
  },
  {
   "cell_type": "code",
   "execution_count": 6,
   "metadata": {},
   "outputs": [],
   "source": [
    "if update_song_list:\n",
    "    song_list = sh.search_songs(artist_list)\n",
    "    len(song_list)"
   ]
  },
  {
   "cell_type": "code",
   "execution_count": 7,
   "metadata": {},
   "outputs": [],
   "source": [
    "if create_words_list:\n",
    "    print('create words list')\n",
    "    words_list = hf.txt_to_list('data/speeches.txt')\n",
    "    len(words_list)"
   ]
  },
  {
   "cell_type": "code",
   "execution_count": 8,
   "metadata": {},
   "outputs": [],
   "source": [
    "if create_words_list:    \n",
    "    song_list_update = sh.search_songs(words_list)\n",
    "    len(song_list_update)\n"
   ]
  },
  {
   "cell_type": "code",
   "execution_count": 9,
   "metadata": {},
   "outputs": [],
   "source": [
    "## concat multiple csvs and concat it to original df\n",
    "if update_audio_features:\n",
    "    df_complete_update = dh.concat_csvs('audio_features_update',25)\n",
    "    df_complete_update.shape\n",
    "    dh.update_audiofeatures_csv(df_complete_update)"
   ]
  },
  {
   "cell_type": "markdown",
   "metadata": {},
   "source": [
    "### Load audiofeatures csv into df"
   ]
  },
  {
   "cell_type": "code",
   "execution_count": 10,
   "metadata": {},
   "outputs": [
    {
     "name": "stdout",
     "output_type": "stream",
     "text": [
      "(275081, 20)\n"
     ]
    },
    {
     "data": {
      "text/html": [
       "<div>\n",
       "<style scoped>\n",
       "    .dataframe tbody tr th:only-of-type {\n",
       "        vertical-align: middle;\n",
       "    }\n",
       "\n",
       "    .dataframe tbody tr th {\n",
       "        vertical-align: top;\n",
       "    }\n",
       "\n",
       "    .dataframe thead th {\n",
       "        text-align: right;\n",
       "    }\n",
       "</style>\n",
       "<table border=\"1\" class=\"dataframe\">\n",
       "  <thead>\n",
       "    <tr style=\"text-align: right;\">\n",
       "      <th></th>\n",
       "      <th>artists</th>\n",
       "      <th>song</th>\n",
       "      <th>danceability</th>\n",
       "      <th>energy</th>\n",
       "      <th>key</th>\n",
       "      <th>loudness</th>\n",
       "      <th>mode</th>\n",
       "      <th>speechiness</th>\n",
       "      <th>acousticness</th>\n",
       "      <th>instrumentalness</th>\n",
       "      <th>liveness</th>\n",
       "      <th>valence</th>\n",
       "      <th>tempo</th>\n",
       "      <th>type</th>\n",
       "      <th>id</th>\n",
       "      <th>uri</th>\n",
       "      <th>track_href</th>\n",
       "      <th>analysis_url</th>\n",
       "      <th>duration_ms</th>\n",
       "      <th>time_signature</th>\n",
       "    </tr>\n",
       "  </thead>\n",
       "  <tbody>\n",
       "    <tr>\n",
       "      <th>0</th>\n",
       "      <td>Wings</td>\n",
       "      <td>Mull Of Kintyre - Remastered 1993</td>\n",
       "      <td>0.350</td>\n",
       "      <td>0.297</td>\n",
       "      <td>2</td>\n",
       "      <td>-13.781</td>\n",
       "      <td>1</td>\n",
       "      <td>0.0265</td>\n",
       "      <td>0.000285</td>\n",
       "      <td>0.0000</td>\n",
       "      <td>0.123</td>\n",
       "      <td>0.423</td>\n",
       "      <td>90.603</td>\n",
       "      <td>audio_features</td>\n",
       "      <td>5yrgufPBA1PqSIOHZHrkYa</td>\n",
       "      <td>spotify:track:5yrgufPBA1PqSIOHZHrkYa</td>\n",
       "      <td>https://api.spotify.com/v1/tracks/5yrgufPBA1Pq...</td>\n",
       "      <td>https://api.spotify.com/v1/audio-analysis/5yrg...</td>\n",
       "      <td>282533</td>\n",
       "      <td>3</td>\n",
       "    </tr>\n",
       "    <tr>\n",
       "      <th>1</th>\n",
       "      <td>Ben Folds Five</td>\n",
       "      <td>Selfless, Cold and Composed</td>\n",
       "      <td>0.233</td>\n",
       "      <td>0.497</td>\n",
       "      <td>11</td>\n",
       "      <td>-9.508</td>\n",
       "      <td>1</td>\n",
       "      <td>0.0322</td>\n",
       "      <td>0.361000</td>\n",
       "      <td>0.0288</td>\n",
       "      <td>0.076</td>\n",
       "      <td>0.272</td>\n",
       "      <td>180.779</td>\n",
       "      <td>audio_features</td>\n",
       "      <td>43Fd2LMelrD0HU01n4g4cw</td>\n",
       "      <td>spotify:track:43Fd2LMelrD0HU01n4g4cw</td>\n",
       "      <td>https://api.spotify.com/v1/tracks/43Fd2LMelrD0...</td>\n",
       "      <td>https://api.spotify.com/v1/audio-analysis/43Fd...</td>\n",
       "      <td>370347</td>\n",
       "      <td>3</td>\n",
       "    </tr>\n",
       "    <tr>\n",
       "      <th>2</th>\n",
       "      <td>Jimmy Cliff</td>\n",
       "      <td>Give And Take</td>\n",
       "      <td>0.833</td>\n",
       "      <td>0.559</td>\n",
       "      <td>2</td>\n",
       "      <td>-13.320</td>\n",
       "      <td>1</td>\n",
       "      <td>0.0688</td>\n",
       "      <td>0.087000</td>\n",
       "      <td>0.0000</td>\n",
       "      <td>0.333</td>\n",
       "      <td>0.652</td>\n",
       "      <td>127.907</td>\n",
       "      <td>audio_features</td>\n",
       "      <td>2YYtbzCV6jKwemSv6JoI8R</td>\n",
       "      <td>spotify:track:2YYtbzCV6jKwemSv6JoI8R</td>\n",
       "      <td>https://api.spotify.com/v1/tracks/2YYtbzCV6jKw...</td>\n",
       "      <td>https://api.spotify.com/v1/audio-analysis/2YYt...</td>\n",
       "      <td>133333</td>\n",
       "      <td>4</td>\n",
       "    </tr>\n",
       "  </tbody>\n",
       "</table>\n",
       "</div>"
      ],
      "text/plain": [
       "          artists                               song  danceability  energy  \\\n",
       "0           Wings  Mull Of Kintyre - Remastered 1993         0.350   0.297   \n",
       "1  Ben Folds Five        Selfless, Cold and Composed         0.233   0.497   \n",
       "2     Jimmy Cliff                      Give And Take         0.833   0.559   \n",
       "\n",
       "   key  loudness  mode  speechiness  acousticness  instrumentalness  liveness  \\\n",
       "0    2   -13.781     1       0.0265      0.000285            0.0000     0.123   \n",
       "1   11    -9.508     1       0.0322      0.361000            0.0288     0.076   \n",
       "2    2   -13.320     1       0.0688      0.087000            0.0000     0.333   \n",
       "\n",
       "   valence    tempo            type                      id  \\\n",
       "0    0.423   90.603  audio_features  5yrgufPBA1PqSIOHZHrkYa   \n",
       "1    0.272  180.779  audio_features  43Fd2LMelrD0HU01n4g4cw   \n",
       "2    0.652  127.907  audio_features  2YYtbzCV6jKwemSv6JoI8R   \n",
       "\n",
       "                                    uri  \\\n",
       "0  spotify:track:5yrgufPBA1PqSIOHZHrkYa   \n",
       "1  spotify:track:43Fd2LMelrD0HU01n4g4cw   \n",
       "2  spotify:track:2YYtbzCV6jKwemSv6JoI8R   \n",
       "\n",
       "                                          track_href  \\\n",
       "0  https://api.spotify.com/v1/tracks/5yrgufPBA1Pq...   \n",
       "1  https://api.spotify.com/v1/tracks/43Fd2LMelrD0...   \n",
       "2  https://api.spotify.com/v1/tracks/2YYtbzCV6jKw...   \n",
       "\n",
       "                                        analysis_url  duration_ms  \\\n",
       "0  https://api.spotify.com/v1/audio-analysis/5yrg...       282533   \n",
       "1  https://api.spotify.com/v1/audio-analysis/43Fd...       370347   \n",
       "2  https://api.spotify.com/v1/audio-analysis/2YYt...       133333   \n",
       "\n",
       "   time_signature  \n",
       "0               3  \n",
       "1               3  \n",
       "2               4  "
      ]
     },
     "execution_count": 10,
     "metadata": {},
     "output_type": "execute_result"
    }
   ],
   "source": [
    "df_audiofeatures = pd.read_csv('data/audio_features.csv')\n",
    "print(df_audiofeatures.shape)\n",
    "df_audiofeatures.head(3)"
   ]
  },
  {
   "cell_type": "markdown",
   "metadata": {},
   "source": [
    "### Train scaler on audiofeatures df"
   ]
  },
  {
   "cell_type": "code",
   "execution_count": 11,
   "metadata": {},
   "outputs": [],
   "source": [
    "# first strip of df of unessessary columns\n",
    "X = modelling.to_feature_df(df_audiofeatures)\n",
    "\n",
    "if fit_scaler:\n",
    "    # fit scaler to df\n",
    "    scaler = modelling.fit_scaler(X)\n",
    "\n",
    "# transform df\n",
    "X_scaled = modelling.scale(X)"
   ]
  },
  {
   "cell_type": "markdown",
   "metadata": {},
   "source": [
    "### Train Model on audiofeatures df"
   ]
  },
  {
   "cell_type": "markdown",
   "metadata": {},
   "source": []
  },
  {
   "cell_type": "code",
   "execution_count": 12,
   "metadata": {},
   "outputs": [],
   "source": [
    "k = 29\n",
    "if train_kmean:\n",
    "    kmeans = modelling.train_kmeans(X_scaled, number_clusters=k)\n",
    "    len(kmeans.labels_)\n",
    "else:\n",
    "    try:\n",
    "        kmeans = modelling.load_kmeans(number_clusters=k)\n",
    "    except:\n",
    "        kmeans = modelling.train_kmeans(X_scaled, number_clusters=k)"
   ]
  },
  {
   "cell_type": "code",
   "execution_count": 13,
   "metadata": {},
   "outputs": [
    {
     "data": {
      "text/plain": [
       "array([4, 4, 0, ..., 6, 1, 2])"
      ]
     },
     "execution_count": 13,
     "metadata": {},
     "output_type": "execute_result"
    }
   ],
   "source": [
    "# assign a cluster to each example\n",
    "labels = kmeans.predict(X_scaled)\n",
    "labels"
   ]
  },
  {
   "cell_type": "code",
   "execution_count": 14,
   "metadata": {},
   "outputs": [
    {
     "data": {
      "image/png": "[encoded data removed]",
      "text/plain": [
       "<Figure size 576x396 with 1 Axes>"
      ]
     },
     "metadata": {},
     "output_type": "display_data"
    }
   ],
   "source": [
    "# retrieve unique clusters\n",
    "clusters = np.unique(labels)\n",
    "# create scatter plot for samples from each cluster\n",
    "for cluster in clusters:\n",
    "    # get row indexes for samples with this cluster\n",
    "    row_ix = np.where(labels == cluster)\n",
    "    # create scatter of these samples\n",
    "    pyplot.scatter(X.to_numpy()[row_ix, 1], X.to_numpy()[row_ix, 2])\n",
    "    # show the plot\n",
    "pyplot.show()"
   ]
  },
  {
   "cell_type": "code",
   "execution_count": 15,
   "metadata": {},
   "outputs": [
    {
     "data": {
      "text/plain": [
       "0    81030\n",
       "1    16728\n",
       "2    31462\n",
       "3    59867\n",
       "4    40110\n",
       "5     8069\n",
       "6    37815\n",
       "dtype: int64"
      ]
     },
     "execution_count": 15,
     "metadata": {},
     "output_type": "execute_result"
    }
   ],
   "source": [
    "clusters = kmeans.predict(X_scaled)\n",
    "#clusters\n",
    "pd.Series(clusters).value_counts().sort_index()"
   ]
  },
  {
   "cell_type": "code",
   "execution_count": 16,
   "metadata": {},
   "outputs": [
    {
     "data": {
      "text/html": [
       "<div>\n",
       "<style scoped>\n",
       "    .dataframe tbody tr th:only-of-type {\n",
       "        vertical-align: middle;\n",
       "    }\n",
       "\n",
       "    .dataframe tbody tr th {\n",
       "        vertical-align: top;\n",
       "    }\n",
       "\n",
       "    .dataframe thead th {\n",
       "        text-align: right;\n",
       "    }\n",
       "</style>\n",
       "<table border=\"1\" class=\"dataframe\">\n",
       "  <thead>\n",
       "    <tr style=\"text-align: right;\">\n",
       "      <th></th>\n",
       "      <th>artists</th>\n",
       "      <th>name</th>\n",
       "      <th>danceability</th>\n",
       "      <th>energy</th>\n",
       "      <th>key</th>\n",
       "      <th>loudness</th>\n",
       "      <th>mode</th>\n",
       "      <th>speechiness</th>\n",
       "      <th>acousticness</th>\n",
       "      <th>instrumentalness</th>\n",
       "      <th>...</th>\n",
       "      <th>valence</th>\n",
       "      <th>tempo</th>\n",
       "      <th>type</th>\n",
       "      <th>id</th>\n",
       "      <th>uri</th>\n",
       "      <th>track_href</th>\n",
       "      <th>analysis_url</th>\n",
       "      <th>duration_ms</th>\n",
       "      <th>time_signature</th>\n",
       "      <th>cluster</th>\n",
       "    </tr>\n",
       "  </thead>\n",
       "  <tbody>\n",
       "    <tr>\n",
       "      <th>0</th>\n",
       "      <td>Wings</td>\n",
       "      <td>Mull Of Kintyre - Remastered 1993</td>\n",
       "      <td>0.350</td>\n",
       "      <td>0.297</td>\n",
       "      <td>2</td>\n",
       "      <td>-13.781</td>\n",
       "      <td>1</td>\n",
       "      <td>0.0265</td>\n",
       "      <td>0.000285</td>\n",
       "      <td>0.0000</td>\n",
       "      <td>...</td>\n",
       "      <td>0.423</td>\n",
       "      <td>90.603</td>\n",
       "      <td>audio_features</td>\n",
       "      <td>5yrgufPBA1PqSIOHZHrkYa</td>\n",
       "      <td>spotify:track:5yrgufPBA1PqSIOHZHrkYa</td>\n",
       "      <td>https://api.spotify.com/v1/tracks/5yrgufPBA1Pq...</td>\n",
       "      <td>https://api.spotify.com/v1/audio-analysis/5yrg...</td>\n",
       "      <td>282533</td>\n",
       "      <td>3</td>\n",
       "      <td>4</td>\n",
       "    </tr>\n",
       "    <tr>\n",
       "      <th>1</th>\n",
       "      <td>Ben Folds Five</td>\n",
       "      <td>Selfless, Cold and Composed</td>\n",
       "      <td>0.233</td>\n",
       "      <td>0.497</td>\n",
       "      <td>11</td>\n",
       "      <td>-9.508</td>\n",
       "      <td>1</td>\n",
       "      <td>0.0322</td>\n",
       "      <td>0.361000</td>\n",
       "      <td>0.0288</td>\n",
       "      <td>...</td>\n",
       "      <td>0.272</td>\n",
       "      <td>180.779</td>\n",
       "      <td>audio_features</td>\n",
       "      <td>43Fd2LMelrD0HU01n4g4cw</td>\n",
       "      <td>spotify:track:43Fd2LMelrD0HU01n4g4cw</td>\n",
       "      <td>https://api.spotify.com/v1/tracks/43Fd2LMelrD0...</td>\n",
       "      <td>https://api.spotify.com/v1/audio-analysis/43Fd...</td>\n",
       "      <td>370347</td>\n",
       "      <td>3</td>\n",
       "      <td>4</td>\n",
       "    </tr>\n",
       "    <tr>\n",
       "      <th>2</th>\n",
       "      <td>Jimmy Cliff</td>\n",
       "      <td>Give And Take</td>\n",
       "      <td>0.833</td>\n",
       "      <td>0.559</td>\n",
       "      <td>2</td>\n",
       "      <td>-13.320</td>\n",
       "      <td>1</td>\n",
       "      <td>0.0688</td>\n",
       "      <td>0.087000</td>\n",
       "      <td>0.0000</td>\n",
       "      <td>...</td>\n",
       "      <td>0.652</td>\n",
       "      <td>127.907</td>\n",
       "      <td>audio_features</td>\n",
       "      <td>2YYtbzCV6jKwemSv6JoI8R</td>\n",
       "      <td>spotify:track:2YYtbzCV6jKwemSv6JoI8R</td>\n",
       "      <td>https://api.spotify.com/v1/tracks/2YYtbzCV6jKw...</td>\n",
       "      <td>https://api.spotify.com/v1/audio-analysis/2YYt...</td>\n",
       "      <td>133333</td>\n",
       "      <td>4</td>\n",
       "      <td>0</td>\n",
       "    </tr>\n",
       "    <tr>\n",
       "      <th>3</th>\n",
       "      <td>SHINee</td>\n",
       "      <td>SUPERSTAR</td>\n",
       "      <td>0.726</td>\n",
       "      <td>0.796</td>\n",
       "      <td>5</td>\n",
       "      <td>-3.853</td>\n",
       "      <td>0</td>\n",
       "      <td>0.0741</td>\n",
       "      <td>0.087900</td>\n",
       "      <td>0.0000</td>\n",
       "      <td>...</td>\n",
       "      <td>0.868</td>\n",
       "      <td>110.010</td>\n",
       "      <td>audio_features</td>\n",
       "      <td>7jiV2MnieeHtnYqTrXmQHD</td>\n",
       "      <td>spotify:track:7jiV2MnieeHtnYqTrXmQHD</td>\n",
       "      <td>https://api.spotify.com/v1/tracks/7jiV2MnieeHt...</td>\n",
       "      <td>https://api.spotify.com/v1/audio-analysis/7jiV...</td>\n",
       "      <td>174707</td>\n",
       "      <td>4</td>\n",
       "      <td>3</td>\n",
       "    </tr>\n",
       "    <tr>\n",
       "      <th>4</th>\n",
       "      <td>Electric Light Orchestra</td>\n",
       "      <td>So Serious</td>\n",
       "      <td>0.697</td>\n",
       "      <td>0.866</td>\n",
       "      <td>0</td>\n",
       "      <td>-7.632</td>\n",
       "      <td>1</td>\n",
       "      <td>0.0354</td>\n",
       "      <td>0.207000</td>\n",
       "      <td>0.0000</td>\n",
       "      <td>...</td>\n",
       "      <td>0.850</td>\n",
       "      <td>128.185</td>\n",
       "      <td>audio_features</td>\n",
       "      <td>2jo3bwXAGhVPL1Uh3dBWiB</td>\n",
       "      <td>spotify:track:2jo3bwXAGhVPL1Uh3dBWiB</td>\n",
       "      <td>https://api.spotify.com/v1/tracks/2jo3bwXAGhVP...</td>\n",
       "      <td>https://api.spotify.com/v1/audio-analysis/2jo3...</td>\n",
       "      <td>161773</td>\n",
       "      <td>4</td>\n",
       "      <td>0</td>\n",
       "    </tr>\n",
       "  </tbody>\n",
       "</table>\n",
       "<p>5 rows × 21 columns</p>\n",
       "</div>"
      ],
      "text/plain": [
       "                    artists                               name  danceability  \\\n",
       "0                     Wings  Mull Of Kintyre - Remastered 1993         0.350   \n",
       "1            Ben Folds Five        Selfless, Cold and Composed         0.233   \n",
       "2               Jimmy Cliff                      Give And Take         0.833   \n",
       "3                    SHINee                          SUPERSTAR         0.726   \n",
       "4  Electric Light Orchestra                         So Serious         0.697   \n",
       "\n",
       "   energy  key  loudness  mode  speechiness  acousticness  instrumentalness  \\\n",
       "0   0.297    2   -13.781     1       0.0265      0.000285            0.0000   \n",
       "1   0.497   11    -9.508     1       0.0322      0.361000            0.0288   \n",
       "2   0.559    2   -13.320     1       0.0688      0.087000            0.0000   \n",
       "3   0.796    5    -3.853     0       0.0741      0.087900            0.0000   \n",
       "4   0.866    0    -7.632     1       0.0354      0.207000            0.0000   \n",
       "\n",
       "   ...  valence    tempo            type                      id  \\\n",
       "0  ...    0.423   90.603  audio_features  5yrgufPBA1PqSIOHZHrkYa   \n",
       "1  ...    0.272  180.779  audio_features  43Fd2LMelrD0HU01n4g4cw   \n",
       "2  ...    0.652  127.907  audio_features  2YYtbzCV6jKwemSv6JoI8R   \n",
       "3  ...    0.868  110.010  audio_features  7jiV2MnieeHtnYqTrXmQHD   \n",
       "4  ...    0.850  128.185  audio_features  2jo3bwXAGhVPL1Uh3dBWiB   \n",
       "\n",
       "                                    uri  \\\n",
       "0  spotify:track:5yrgufPBA1PqSIOHZHrkYa   \n",
       "1  spotify:track:43Fd2LMelrD0HU01n4g4cw   \n",
       "2  spotify:track:2YYtbzCV6jKwemSv6JoI8R   \n",
       "3  spotify:track:7jiV2MnieeHtnYqTrXmQHD   \n",
       "4  spotify:track:2jo3bwXAGhVPL1Uh3dBWiB   \n",
       "\n",
       "                                          track_href  \\\n",
       "0  https://api.spotify.com/v1/tracks/5yrgufPBA1Pq...   \n",
       "1  https://api.spotify.com/v1/tracks/43Fd2LMelrD0...   \n",
       "2  https://api.spotify.com/v1/tracks/2YYtbzCV6jKw...   \n",
       "3  https://api.spotify.com/v1/tracks/7jiV2MnieeHt...   \n",
       "4  https://api.spotify.com/v1/tracks/2jo3bwXAGhVP...   \n",
       "\n",
       "                                        analysis_url duration_ms  \\\n",
       "0  https://api.spotify.com/v1/audio-analysis/5yrg...      282533   \n",
       "1  https://api.spotify.com/v1/audio-analysis/43Fd...      370347   \n",
       "2  https://api.spotify.com/v1/audio-analysis/2YYt...      133333   \n",
       "3  https://api.spotify.com/v1/audio-analysis/7jiV...      174707   \n",
       "4  https://api.spotify.com/v1/audio-analysis/2jo3...      161773   \n",
       "\n",
       "   time_signature  cluster  \n",
       "0               3        4  \n",
       "1               3        4  \n",
       "2               4        0  \n",
       "3               4        3  \n",
       "4               4        0  \n",
       "\n",
       "[5 rows x 21 columns]"
      ]
     },
     "execution_count": 16,
     "metadata": {},
     "output_type": "execute_result"
    }
   ],
   "source": [
    "df_audiofeatures[\"cluster\"] = clusters\n",
    "df_audiofeatures.head()"
   ]
  },
  {
   "cell_type": "markdown",
   "metadata": {},
   "source": []
  },
  {
   "cell_type": "code",
   "execution_count": 17,
   "metadata": {},
   "outputs": [
    {
     "data": {
      "text/html": [
       "<div>\n",
       "<style scoped>\n",
       "    .dataframe tbody tr th:only-of-type {\n",
       "        vertical-align: middle;\n",
       "    }\n",
       "\n",
       "    .dataframe tbody tr th {\n",
       "        vertical-align: top;\n",
       "    }\n",
       "\n",
       "    .dataframe thead th {\n",
       "        text-align: right;\n",
       "    }\n",
       "</style>\n",
       "<table border=\"1\" class=\"dataframe\">\n",
       "  <thead>\n",
       "    <tr style=\"text-align: right;\">\n",
       "      <th></th>\n",
       "      <th>artists</th>\n",
       "      <th>name</th>\n",
       "      <th>danceability</th>\n",
       "      <th>energy</th>\n",
       "      <th>key</th>\n",
       "      <th>loudness</th>\n",
       "      <th>mode</th>\n",
       "      <th>speechiness</th>\n",
       "      <th>acousticness</th>\n",
       "      <th>instrumentalness</th>\n",
       "      <th>...</th>\n",
       "      <th>valence</th>\n",
       "      <th>tempo</th>\n",
       "      <th>type</th>\n",
       "      <th>id</th>\n",
       "      <th>uri</th>\n",
       "      <th>track_href</th>\n",
       "      <th>analysis_url</th>\n",
       "      <th>duration_ms</th>\n",
       "      <th>time_signature</th>\n",
       "      <th>cluster</th>\n",
       "    </tr>\n",
       "  </thead>\n",
       "  <tbody>\n",
       "    <tr>\n",
       "      <th>237028</th>\n",
       "      <td>Dreamy Thoughts</td>\n",
       "      <td>Spring</td>\n",
       "      <td>0.158</td>\n",
       "      <td>0.00183</td>\n",
       "      <td>2</td>\n",
       "      <td>-35.84</td>\n",
       "      <td>0</td>\n",
       "      <td>0.0388</td>\n",
       "      <td>0.992</td>\n",
       "      <td>0.799</td>\n",
       "      <td>...</td>\n",
       "      <td>0.0729</td>\n",
       "      <td>75.093</td>\n",
       "      <td>audio_features</td>\n",
       "      <td>2THMumd2UduUKZAtAgb2Kh</td>\n",
       "      <td>spotify:track:2THMumd2UduUKZAtAgb2Kh</td>\n",
       "      <td>https://api.spotify.com/v1/tracks/2THMumd2UduU...</td>\n",
       "      <td>https://api.spotify.com/v1/audio-analysis/2THM...</td>\n",
       "      <td>130909</td>\n",
       "      <td>5</td>\n",
       "      <td>2</td>\n",
       "    </tr>\n",
       "  </tbody>\n",
       "</table>\n",
       "<p>1 rows × 21 columns</p>\n",
       "</div>"
      ],
      "text/plain": [
       "                artists    name  danceability   energy  key  loudness  mode  \\\n",
       "237028  Dreamy Thoughts  Spring         0.158  0.00183    2    -35.84     0   \n",
       "\n",
       "        speechiness  acousticness  instrumentalness  ...  valence   tempo  \\\n",
       "237028       0.0388         0.992             0.799  ...   0.0729  75.093   \n",
       "\n",
       "                  type                      id  \\\n",
       "237028  audio_features  2THMumd2UduUKZAtAgb2Kh   \n",
       "\n",
       "                                         uri  \\\n",
       "237028  spotify:track:2THMumd2UduUKZAtAgb2Kh   \n",
       "\n",
       "                                               track_href  \\\n",
       "237028  https://api.spotify.com/v1/tracks/2THMumd2UduU...   \n",
       "\n",
       "                                             analysis_url duration_ms  \\\n",
       "237028  https://api.spotify.com/v1/audio-analysis/2THM...      130909   \n",
       "\n",
       "        time_signature  cluster  \n",
       "237028               5        2  \n",
       "\n",
       "[1 rows x 21 columns]"
      ]
     },
     "execution_count": 17,
     "metadata": {},
     "output_type": "execute_result"
    }
   ],
   "source": [
    "df_audiofeatures[df_audiofeatures['cluster'] == 2].sample()"
   ]
  },
  {
   "cell_type": "markdown",
   "metadata": {},
   "source": []
  },
  {
   "cell_type": "markdown",
   "metadata": {
    "id": "77b-H29dnlLP"
   },
   "source": [
    "## Chosing K"
   ]
  },
  {
   "cell_type": "markdown",
   "metadata": {
    "id": "L8_TbXg4no6m"
   },
   "source": [
    "We have used K=8 by default for now - but we know that 8 might not be the optimal number of clusters for our dataset. Having a metric like inertia, we can compute it for several K values and then use the \"elbow method\" to choose the best K.\n",
    "\n",
    "We will now leave all other parameters with their default value, since it seems to work pretty well."
   ]
  },
  {
   "cell_type": "code",
   "execution_count": 18,
   "metadata": {
    "colab": {
     "base_uri": "https://localhost:8080/",
     "height": 1000
    },
    "executionInfo": {
     "elapsed": 2117,
     "status": "ok",
     "timestamp": 1623849240010,
     "user": {
      "displayName": "Ignacio Soteras",
      "photoUrl": "",
      "userId": "02050793736257155229"
     },
     "user_tz": -120
    },
    "id": "g69gpyLSnqVS",
    "outputId": "5eff7e09-1033-499e-ca86-a5b49f356400"
   },
   "outputs": [],
   "source": [
    "# K = range(2, 21)\n",
    "# inertia = []\n",
    "\n",
    "# for k in K:\n",
    "#     print(\"Training a K-Means model with {} clusters! \".format(k))\n",
    "#     print()\n",
    "#     kmeans = KMeans(n_clusters=k,\n",
    "#                     random_state=1234)\n",
    "#     kmeans.fit(X_scaled)\n",
    "#     inertia.append(kmeans.inertia_)\n",
    "\n",
    "# import numpy as np\n",
    "# import matplotlib.pyplot as plt\n",
    "# %matplotlib inline\n",
    "\n",
    "# plt.figure(figsize=(16,8))\n",
    "# plt.plot(K, inertia, 'bx-')\n",
    "# plt.xlabel('k')\n",
    "# plt.ylabel('inertia')\n",
    "# plt.xticks(np.arange(min(K), max(K)+1, 1.0))\n",
    "# plt.title('Elbow Method showing the optimal k')"
   ]
  },
  {
   "cell_type": "markdown",
   "metadata": {
    "id": "shXQmFxLpVU8"
   },
   "source": [
    "## Silouhette"
   ]
  },
  {
   "cell_type": "code",
   "execution_count": 19,
   "metadata": {},
   "outputs": [],
   "source": [
    "import matplotlib.pyplot as plt\n",
    "%matplotlib inline\n",
    "\n",
    "K = range(2, 30)\n",
    "silhouette = []"
   ]
  },
  {
   "cell_type": "code",
   "execution_count": 20,
   "metadata": {},
   "outputs": [
    {
     "name": "stderr",
     "output_type": "stream",
     "text": [
      "100%|██████████| 28/28 [00:03<00:00,  7.75it/s]\n"
     ]
    }
   ],
   "source": [
    "X_scaled_sample = X_scaled.sample(1000)\n",
    "for k in tqdm(K):\n",
    "    if train_kmean:\n",
    "        kmeans = modelling.train_kmeans(X_scaled, number_clusters=k)\n",
    "    else:\n",
    "        kmeans = modelling.load_kmeans(number_clusters=k)\n",
    "    silhouette.append(silhouette_score(X_scaled_sample, kmeans.predict(X_scaled_sample)))"
   ]
  },
  {
   "cell_type": "code",
   "execution_count": 21,
   "metadata": {},
   "outputs": [
    {
     "data": {
      "text/plain": [
       "Text(0.5, 1.0, 'Silhouette Method showing the optimal k')"
      ]
     },
     "execution_count": 21,
     "metadata": {},
     "output_type": "execute_result"
    },
    {
     "data": {
      "image/png": "[encoded data removed]",
      "text/plain": [
       "<Figure size 1152x576 with 1 Axes>"
      ]
     },
     "metadata": {
      "needs_background": "light"
     },
     "output_type": "display_data"
    }
   ],
   "source": [
    "plt.figure(figsize=(16,8))\n",
    "plt.plot(K, silhouette, 'bx-')\n",
    "plt.xlabel('k')\n",
    "plt.ylabel('silhouette score')\n",
    "plt.xticks(np.arange(min(K), max(K)+1, 1.0))\n",
    "plt.title('Silhouette Method showing the optimal k')"
   ]
  },
  {
   "cell_type": "markdown",
   "metadata": {},
   "source": [
    "### get cluster and recommend a song"
   ]
  },
  {
   "cell_type": "code",
   "execution_count": 22,
   "metadata": {},
   "outputs": [],
   "source": [
    "kmeans = modelling.load_kmeans(number_clusters=k)\n"
   ]
  },
  {
   "cell_type": "code",
   "execution_count": 23,
   "metadata": {},
   "outputs": [
    {
     "data": {
      "text/html": [
       "<div>\n",
       "<style scoped>\n",
       "    .dataframe tbody tr th:only-of-type {\n",
       "        vertical-align: middle;\n",
       "    }\n",
       "\n",
       "    .dataframe tbody tr th {\n",
       "        vertical-align: top;\n",
       "    }\n",
       "\n",
       "    .dataframe thead th {\n",
       "        text-align: right;\n",
       "    }\n",
       "</style>\n",
       "<table border=\"1\" class=\"dataframe\">\n",
       "  <thead>\n",
       "    <tr style=\"text-align: right;\">\n",
       "      <th></th>\n",
       "      <th>artists</th>\n",
       "      <th>name</th>\n",
       "      <th>danceability</th>\n",
       "      <th>energy</th>\n",
       "      <th>key</th>\n",
       "      <th>loudness</th>\n",
       "      <th>mode</th>\n",
       "      <th>speechiness</th>\n",
       "      <th>acousticness</th>\n",
       "      <th>instrumentalness</th>\n",
       "      <th>...</th>\n",
       "      <th>valence</th>\n",
       "      <th>tempo</th>\n",
       "      <th>type</th>\n",
       "      <th>id</th>\n",
       "      <th>uri</th>\n",
       "      <th>track_href</th>\n",
       "      <th>analysis_url</th>\n",
       "      <th>duration_ms</th>\n",
       "      <th>time_signature</th>\n",
       "      <th>cluster</th>\n",
       "    </tr>\n",
       "  </thead>\n",
       "  <tbody>\n",
       "    <tr>\n",
       "      <th>19787</th>\n",
       "      <td>Preston</td>\n",
       "      <td>Chordalfloral - Mise en Scene Remix</td>\n",
       "      <td>0.609</td>\n",
       "      <td>0.52</td>\n",
       "      <td>2</td>\n",
       "      <td>-12.373</td>\n",
       "      <td>0</td>\n",
       "      <td>0.0692</td>\n",
       "      <td>0.13</td>\n",
       "      <td>0.893</td>\n",
       "      <td>...</td>\n",
       "      <td>0.83</td>\n",
       "      <td>180.042</td>\n",
       "      <td>audio_features</td>\n",
       "      <td>5g5tgP5mCxoJtQbNOngfcr</td>\n",
       "      <td>spotify:track:5g5tgP5mCxoJtQbNOngfcr</td>\n",
       "      <td>https://api.spotify.com/v1/tracks/5g5tgP5mCxoJ...</td>\n",
       "      <td>https://api.spotify.com/v1/audio-analysis/5g5t...</td>\n",
       "      <td>239000</td>\n",
       "      <td>4</td>\n",
       "      <td>6</td>\n",
       "    </tr>\n",
       "  </tbody>\n",
       "</table>\n",
       "<p>1 rows × 21 columns</p>\n",
       "</div>"
      ],
      "text/plain": [
       "       artists                                 name  danceability  energy  \\\n",
       "19787  Preston  Chordalfloral - Mise en Scene Remix         0.609    0.52   \n",
       "\n",
       "       key  loudness  mode  speechiness  acousticness  instrumentalness  ...  \\\n",
       "19787    2   -12.373     0       0.0692          0.13             0.893  ...   \n",
       "\n",
       "       valence    tempo            type                      id  \\\n",
       "19787     0.83  180.042  audio_features  5g5tgP5mCxoJtQbNOngfcr   \n",
       "\n",
       "                                        uri  \\\n",
       "19787  spotify:track:5g5tgP5mCxoJtQbNOngfcr   \n",
       "\n",
       "                                              track_href  \\\n",
       "19787  https://api.spotify.com/v1/tracks/5g5tgP5mCxoJ...   \n",
       "\n",
       "                                            analysis_url duration_ms  \\\n",
       "19787  https://api.spotify.com/v1/audio-analysis/5g5t...      239000   \n",
       "\n",
       "       time_signature  cluster  \n",
       "19787               4        6  \n",
       "\n",
       "[1 rows x 21 columns]"
      ]
     },
     "execution_count": 23,
     "metadata": {},
     "output_type": "execute_result"
    }
   ],
   "source": [
    "random_song = df_audiofeatures.sample()\n",
    "random_song"
   ]
  },
  {
   "cell_type": "code",
   "execution_count": 24,
   "metadata": {},
   "outputs": [],
   "source": [
    "random_song = modelling.to_feature_df(random_song)\n"
   ]
  },
  {
   "cell_type": "code",
   "execution_count": 25,
   "metadata": {},
   "outputs": [
    {
     "data": {
      "text/plain": [
       "23"
      ]
     },
     "execution_count": 25,
     "metadata": {},
     "output_type": "execute_result"
    }
   ],
   "source": [
    "cluster = modelling.give_cluster(random_song,kmeans)[0]\n",
    "cluster"
   ]
  },
  {
   "cell_type": "code",
   "execution_count": 26,
   "metadata": {},
   "outputs": [
    {
     "ename": "ValueError",
     "evalue": "a must be greater than 0 unless no samples are taken",
     "output_type": "error",
     "traceback": [
      "\u001b[1;31m---------------------------------------------------------------------------\u001b[0m",
      "\u001b[1;31mValueError\u001b[0m                                Traceback (most recent call last)",
      "\u001b[1;32m~\\AppData\\Local\\Temp/ipykernel_14956/2582749175.py\u001b[0m in \u001b[0;36m<module>\u001b[1;34m\u001b[0m\n\u001b[1;32m----> 1\u001b[1;33m \u001b[0mdf_audiofeatures\u001b[0m\u001b[1;33m[\u001b[0m\u001b[0mdf_audiofeatures\u001b[0m\u001b[1;33m[\u001b[0m\u001b[1;34m'cluster'\u001b[0m\u001b[1;33m]\u001b[0m \u001b[1;33m==\u001b[0m \u001b[0mcluster\u001b[0m\u001b[1;33m]\u001b[0m\u001b[1;33m.\u001b[0m\u001b[0msample\u001b[0m\u001b[1;33m(\u001b[0m\u001b[1;33m)\u001b[0m\u001b[1;33m\u001b[0m\u001b[1;33m\u001b[0m\u001b[0m\n\u001b[0m",
      "\u001b[1;32mC:\\ProgramData\\Anaconda3\\envs\\DA_Env\\lib\\site-packages\\pandas\\core\\generic.py\u001b[0m in \u001b[0;36msample\u001b[1;34m(self, n, frac, replace, weights, random_state, axis, ignore_index)\u001b[0m\n\u001b[0;32m   5363\u001b[0m             )\n\u001b[0;32m   5364\u001b[0m \u001b[1;33m\u001b[0m\u001b[0m\n\u001b[1;32m-> 5365\u001b[1;33m         \u001b[0mlocs\u001b[0m \u001b[1;33m=\u001b[0m \u001b[0mrs\u001b[0m\u001b[1;33m.\u001b[0m\u001b[0mchoice\u001b[0m\u001b[1;33m(\u001b[0m\u001b[0maxis_length\u001b[0m\u001b[1;33m,\u001b[0m \u001b[0msize\u001b[0m\u001b[1;33m=\u001b[0m\u001b[0mn\u001b[0m\u001b[1;33m,\u001b[0m \u001b[0mreplace\u001b[0m\u001b[1;33m=\u001b[0m\u001b[0mreplace\u001b[0m\u001b[1;33m,\u001b[0m \u001b[0mp\u001b[0m\u001b[1;33m=\u001b[0m\u001b[0mweights\u001b[0m\u001b[1;33m)\u001b[0m\u001b[1;33m\u001b[0m\u001b[1;33m\u001b[0m\u001b[0m\n\u001b[0m\u001b[0;32m   5366\u001b[0m         \u001b[0mresult\u001b[0m \u001b[1;33m=\u001b[0m \u001b[0mself\u001b[0m\u001b[1;33m.\u001b[0m\u001b[0mtake\u001b[0m\u001b[1;33m(\u001b[0m\u001b[0mlocs\u001b[0m\u001b[1;33m,\u001b[0m \u001b[0maxis\u001b[0m\u001b[1;33m=\u001b[0m\u001b[0maxis\u001b[0m\u001b[1;33m)\u001b[0m\u001b[1;33m\u001b[0m\u001b[1;33m\u001b[0m\u001b[0m\n\u001b[0;32m   5367\u001b[0m         \u001b[1;32mif\u001b[0m \u001b[0mignore_index\u001b[0m\u001b[1;33m:\u001b[0m\u001b[1;33m\u001b[0m\u001b[1;33m\u001b[0m\u001b[0m\n",
      "\u001b[1;32mmtrand.pyx\u001b[0m in \u001b[0;36mnumpy.random.mtrand.RandomState.choice\u001b[1;34m()\u001b[0m\n",
      "\u001b[1;31mValueError\u001b[0m: a must be greater than 0 unless no samples are taken"
     ]
    }
   ],
   "source": [
    "df_audiofeatures[df_audiofeatures['cluster'] == cluster].sample()"
   ]
  },
  {
   "cell_type": "code",
   "execution_count": null,
   "metadata": {},
   "outputs": [
    {
     "data": {
      "text/html": [
       "<div>\n",
       "<style scoped>\n",
       "    .dataframe tbody tr th:only-of-type {\n",
       "        vertical-align: middle;\n",
       "    }\n",
       "\n",
       "    .dataframe tbody tr th {\n",
       "        vertical-align: top;\n",
       "    }\n",
       "\n",
       "    .dataframe thead th {\n",
       "        text-align: right;\n",
       "    }\n",
       "</style>\n",
       "<table border=\"1\" class=\"dataframe\">\n",
       "  <thead>\n",
       "    <tr style=\"text-align: right;\">\n",
       "      <th></th>\n",
       "      <th>artists</th>\n",
       "      <th>name</th>\n",
       "      <th>danceability</th>\n",
       "      <th>energy</th>\n",
       "      <th>key</th>\n",
       "      <th>loudness</th>\n",
       "      <th>mode</th>\n",
       "      <th>speechiness</th>\n",
       "      <th>acousticness</th>\n",
       "      <th>instrumentalness</th>\n",
       "      <th>...</th>\n",
       "      <th>valence</th>\n",
       "      <th>tempo</th>\n",
       "      <th>type</th>\n",
       "      <th>id</th>\n",
       "      <th>uri</th>\n",
       "      <th>track_href</th>\n",
       "      <th>analysis_url</th>\n",
       "      <th>duration_ms</th>\n",
       "      <th>time_signature</th>\n",
       "      <th>cluster</th>\n",
       "    </tr>\n",
       "  </thead>\n",
       "  <tbody>\n",
       "    <tr>\n",
       "      <th>0</th>\n",
       "      <td>Wings</td>\n",
       "      <td>Mull Of Kintyre - Remastered 1993</td>\n",
       "      <td>0.350</td>\n",
       "      <td>0.2970</td>\n",
       "      <td>2</td>\n",
       "      <td>-13.781</td>\n",
       "      <td>1</td>\n",
       "      <td>0.0265</td>\n",
       "      <td>0.000285</td>\n",
       "      <td>0.000000</td>\n",
       "      <td>...</td>\n",
       "      <td>0.4230</td>\n",
       "      <td>90.603</td>\n",
       "      <td>audio_features</td>\n",
       "      <td>5yrgufPBA1PqSIOHZHrkYa</td>\n",
       "      <td>spotify:track:5yrgufPBA1PqSIOHZHrkYa</td>\n",
       "      <td>https://api.spotify.com/v1/tracks/5yrgufPBA1Pq...</td>\n",
       "      <td>https://api.spotify.com/v1/audio-analysis/5yrg...</td>\n",
       "      <td>282533</td>\n",
       "      <td>3</td>\n",
       "      <td>4</td>\n",
       "    </tr>\n",
       "    <tr>\n",
       "      <th>1</th>\n",
       "      <td>Ben Folds Five</td>\n",
       "      <td>Selfless, Cold and Composed</td>\n",
       "      <td>0.233</td>\n",
       "      <td>0.4970</td>\n",
       "      <td>11</td>\n",
       "      <td>-9.508</td>\n",
       "      <td>1</td>\n",
       "      <td>0.0322</td>\n",
       "      <td>0.361000</td>\n",
       "      <td>0.028800</td>\n",
       "      <td>...</td>\n",
       "      <td>0.2720</td>\n",
       "      <td>180.779</td>\n",
       "      <td>audio_features</td>\n",
       "      <td>43Fd2LMelrD0HU01n4g4cw</td>\n",
       "      <td>spotify:track:43Fd2LMelrD0HU01n4g4cw</td>\n",
       "      <td>https://api.spotify.com/v1/tracks/43Fd2LMelrD0...</td>\n",
       "      <td>https://api.spotify.com/v1/audio-analysis/43Fd...</td>\n",
       "      <td>370347</td>\n",
       "      <td>3</td>\n",
       "      <td>4</td>\n",
       "    </tr>\n",
       "    <tr>\n",
       "      <th>2</th>\n",
       "      <td>Jimmy Cliff</td>\n",
       "      <td>Give And Take</td>\n",
       "      <td>0.833</td>\n",
       "      <td>0.5590</td>\n",
       "      <td>2</td>\n",
       "      <td>-13.320</td>\n",
       "      <td>1</td>\n",
       "      <td>0.0688</td>\n",
       "      <td>0.087000</td>\n",
       "      <td>0.000000</td>\n",
       "      <td>...</td>\n",
       "      <td>0.6520</td>\n",
       "      <td>127.907</td>\n",
       "      <td>audio_features</td>\n",
       "      <td>2YYtbzCV6jKwemSv6JoI8R</td>\n",
       "      <td>spotify:track:2YYtbzCV6jKwemSv6JoI8R</td>\n",
       "      <td>https://api.spotify.com/v1/tracks/2YYtbzCV6jKw...</td>\n",
       "      <td>https://api.spotify.com/v1/audio-analysis/2YYt...</td>\n",
       "      <td>133333</td>\n",
       "      <td>4</td>\n",
       "      <td>0</td>\n",
       "    </tr>\n",
       "    <tr>\n",
       "      <th>3</th>\n",
       "      <td>SHINee</td>\n",
       "      <td>SUPERSTAR</td>\n",
       "      <td>0.726</td>\n",
       "      <td>0.7960</td>\n",
       "      <td>5</td>\n",
       "      <td>-3.853</td>\n",
       "      <td>0</td>\n",
       "      <td>0.0741</td>\n",
       "      <td>0.087900</td>\n",
       "      <td>0.000000</td>\n",
       "      <td>...</td>\n",
       "      <td>0.8680</td>\n",
       "      <td>110.010</td>\n",
       "      <td>audio_features</td>\n",
       "      <td>7jiV2MnieeHtnYqTrXmQHD</td>\n",
       "      <td>spotify:track:7jiV2MnieeHtnYqTrXmQHD</td>\n",
       "      <td>https://api.spotify.com/v1/tracks/7jiV2MnieeHt...</td>\n",
       "      <td>https://api.spotify.com/v1/audio-analysis/7jiV...</td>\n",
       "      <td>174707</td>\n",
       "      <td>4</td>\n",
       "      <td>3</td>\n",
       "    </tr>\n",
       "    <tr>\n",
       "      <th>4</th>\n",
       "      <td>Electric Light Orchestra</td>\n",
       "      <td>So Serious</td>\n",
       "      <td>0.697</td>\n",
       "      <td>0.8660</td>\n",
       "      <td>0</td>\n",
       "      <td>-7.632</td>\n",
       "      <td>1</td>\n",
       "      <td>0.0354</td>\n",
       "      <td>0.207000</td>\n",
       "      <td>0.000000</td>\n",
       "      <td>...</td>\n",
       "      <td>0.8500</td>\n",
       "      <td>128.185</td>\n",
       "      <td>audio_features</td>\n",
       "      <td>2jo3bwXAGhVPL1Uh3dBWiB</td>\n",
       "      <td>spotify:track:2jo3bwXAGhVPL1Uh3dBWiB</td>\n",
       "      <td>https://api.spotify.com/v1/tracks/2jo3bwXAGhVP...</td>\n",
       "      <td>https://api.spotify.com/v1/audio-analysis/2jo3...</td>\n",
       "      <td>161773</td>\n",
       "      <td>4</td>\n",
       "      <td>0</td>\n",
       "    </tr>\n",
       "    <tr>\n",
       "      <th>...</th>\n",
       "      <td>...</td>\n",
       "      <td>...</td>\n",
       "      <td>...</td>\n",
       "      <td>...</td>\n",
       "      <td>...</td>\n",
       "      <td>...</td>\n",
       "      <td>...</td>\n",
       "      <td>...</td>\n",
       "      <td>...</td>\n",
       "      <td>...</td>\n",
       "      <td>...</td>\n",
       "      <td>...</td>\n",
       "      <td>...</td>\n",
       "      <td>...</td>\n",
       "      <td>...</td>\n",
       "      <td>...</td>\n",
       "      <td>...</td>\n",
       "      <td>...</td>\n",
       "      <td>...</td>\n",
       "      <td>...</td>\n",
       "      <td>...</td>\n",
       "    </tr>\n",
       "    <tr>\n",
       "      <th>275076</th>\n",
       "      <td>E-17</td>\n",
       "      <td>Each Time</td>\n",
       "      <td>0.667</td>\n",
       "      <td>0.8300</td>\n",
       "      <td>11</td>\n",
       "      <td>-6.218</td>\n",
       "      <td>1</td>\n",
       "      <td>0.0309</td>\n",
       "      <td>0.077700</td>\n",
       "      <td>0.000011</td>\n",
       "      <td>...</td>\n",
       "      <td>0.6580</td>\n",
       "      <td>100.188</td>\n",
       "      <td>audio_features</td>\n",
       "      <td>3vkqxWX7KS7pvEYGqI0z6z</td>\n",
       "      <td>spotify:track:3vkqxWX7KS7pvEYGqI0z6z</td>\n",
       "      <td>https://api.spotify.com/v1/tracks/3vkqxWX7KS7p...</td>\n",
       "      <td>https://api.spotify.com/v1/audio-analysis/3vkq...</td>\n",
       "      <td>228173</td>\n",
       "      <td>4</td>\n",
       "      <td>0</td>\n",
       "    </tr>\n",
       "    <tr>\n",
       "      <th>275077</th>\n",
       "      <td>Cstephh</td>\n",
       "      <td>Build Regimes Freestyle</td>\n",
       "      <td>0.638</td>\n",
       "      <td>0.1960</td>\n",
       "      <td>11</td>\n",
       "      <td>-24.406</td>\n",
       "      <td>1</td>\n",
       "      <td>0.3450</td>\n",
       "      <td>0.296000</td>\n",
       "      <td>0.000000</td>\n",
       "      <td>...</td>\n",
       "      <td>0.3110</td>\n",
       "      <td>140.600</td>\n",
       "      <td>audio_features</td>\n",
       "      <td>3EeivRbcCgxHeZF10n3wpG</td>\n",
       "      <td>spotify:track:3EeivRbcCgxHeZF10n3wpG</td>\n",
       "      <td>https://api.spotify.com/v1/tracks/3EeivRbcCgxH...</td>\n",
       "      <td>https://api.spotify.com/v1/audio-analysis/3Eei...</td>\n",
       "      <td>185111</td>\n",
       "      <td>5</td>\n",
       "      <td>4</td>\n",
       "    </tr>\n",
       "    <tr>\n",
       "      <th>275078</th>\n",
       "      <td>tstewart</td>\n",
       "      <td>Jess</td>\n",
       "      <td>0.569</td>\n",
       "      <td>0.8640</td>\n",
       "      <td>1</td>\n",
       "      <td>-5.716</td>\n",
       "      <td>0</td>\n",
       "      <td>0.0334</td>\n",
       "      <td>0.183000</td>\n",
       "      <td>0.632000</td>\n",
       "      <td>...</td>\n",
       "      <td>0.2710</td>\n",
       "      <td>103.013</td>\n",
       "      <td>audio_features</td>\n",
       "      <td>6bQ5MVqfN49AaBWZJRjarP</td>\n",
       "      <td>spotify:track:6bQ5MVqfN49AaBWZJRjarP</td>\n",
       "      <td>https://api.spotify.com/v1/tracks/6bQ5MVqfN49A...</td>\n",
       "      <td>https://api.spotify.com/v1/audio-analysis/6bQ5...</td>\n",
       "      <td>324320</td>\n",
       "      <td>4</td>\n",
       "      <td>6</td>\n",
       "    </tr>\n",
       "    <tr>\n",
       "      <th>275079</th>\n",
       "      <td>CityAlight</td>\n",
       "      <td>The Goodness of Jesus</td>\n",
       "      <td>0.306</td>\n",
       "      <td>0.3560</td>\n",
       "      <td>0</td>\n",
       "      <td>-8.726</td>\n",
       "      <td>1</td>\n",
       "      <td>0.0277</td>\n",
       "      <td>0.871000</td>\n",
       "      <td>0.000000</td>\n",
       "      <td>...</td>\n",
       "      <td>0.1190</td>\n",
       "      <td>140.266</td>\n",
       "      <td>audio_features</td>\n",
       "      <td>6iL4Am7n9div8eH9kxmDYS</td>\n",
       "      <td>spotify:track:6iL4Am7n9div8eH9kxmDYS</td>\n",
       "      <td>https://api.spotify.com/v1/tracks/6iL4Am7n9div...</td>\n",
       "      <td>https://api.spotify.com/v1/audio-analysis/6iL4...</td>\n",
       "      <td>259594</td>\n",
       "      <td>4</td>\n",
       "      <td>1</td>\n",
       "    </tr>\n",
       "    <tr>\n",
       "      <th>275080</th>\n",
       "      <td>Work Music</td>\n",
       "      <td>Greater Sand Plover</td>\n",
       "      <td>0.620</td>\n",
       "      <td>0.0401</td>\n",
       "      <td>2</td>\n",
       "      <td>-18.732</td>\n",
       "      <td>0</td>\n",
       "      <td>0.0564</td>\n",
       "      <td>0.985000</td>\n",
       "      <td>0.611000</td>\n",
       "      <td>...</td>\n",
       "      <td>0.0368</td>\n",
       "      <td>112.990</td>\n",
       "      <td>audio_features</td>\n",
       "      <td>1EPa4taKL9C7XTKSu5oCCy</td>\n",
       "      <td>spotify:track:1EPa4taKL9C7XTKSu5oCCy</td>\n",
       "      <td>https://api.spotify.com/v1/tracks/1EPa4taKL9C7...</td>\n",
       "      <td>https://api.spotify.com/v1/audio-analysis/1EPa...</td>\n",
       "      <td>204728</td>\n",
       "      <td>4</td>\n",
       "      <td>2</td>\n",
       "    </tr>\n",
       "  </tbody>\n",
       "</table>\n",
       "<p>275081 rows × 21 columns</p>\n",
       "</div>"
      ],
      "text/plain": [
       "                         artists                               name  \\\n",
       "0                          Wings  Mull Of Kintyre - Remastered 1993   \n",
       "1                 Ben Folds Five        Selfless, Cold and Composed   \n",
       "2                    Jimmy Cliff                      Give And Take   \n",
       "3                         SHINee                          SUPERSTAR   \n",
       "4       Electric Light Orchestra                         So Serious   \n",
       "...                          ...                                ...   \n",
       "275076                      E-17                          Each Time   \n",
       "275077                   Cstephh            Build Regimes Freestyle   \n",
       "275078                  tstewart                               Jess   \n",
       "275079                CityAlight              The Goodness of Jesus   \n",
       "275080                Work Music                Greater Sand Plover   \n",
       "\n",
       "        danceability  energy  key  loudness  mode  speechiness  acousticness  \\\n",
       "0              0.350  0.2970    2   -13.781     1       0.0265      0.000285   \n",
       "1              0.233  0.4970   11    -9.508     1       0.0322      0.361000   \n",
       "2              0.833  0.5590    2   -13.320     1       0.0688      0.087000   \n",
       "3              0.726  0.7960    5    -3.853     0       0.0741      0.087900   \n",
       "4              0.697  0.8660    0    -7.632     1       0.0354      0.207000   \n",
       "...              ...     ...  ...       ...   ...          ...           ...   \n",
       "275076         0.667  0.8300   11    -6.218     1       0.0309      0.077700   \n",
       "275077         0.638  0.1960   11   -24.406     1       0.3450      0.296000   \n",
       "275078         0.569  0.8640    1    -5.716     0       0.0334      0.183000   \n",
       "275079         0.306  0.3560    0    -8.726     1       0.0277      0.871000   \n",
       "275080         0.620  0.0401    2   -18.732     0       0.0564      0.985000   \n",
       "\n",
       "        instrumentalness  ...  valence    tempo            type  \\\n",
       "0               0.000000  ...   0.4230   90.603  audio_features   \n",
       "1               0.028800  ...   0.2720  180.779  audio_features   \n",
       "2               0.000000  ...   0.6520  127.907  audio_features   \n",
       "3               0.000000  ...   0.8680  110.010  audio_features   \n",
       "4               0.000000  ...   0.8500  128.185  audio_features   \n",
       "...                  ...  ...      ...      ...             ...   \n",
       "275076          0.000011  ...   0.6580  100.188  audio_features   \n",
       "275077          0.000000  ...   0.3110  140.600  audio_features   \n",
       "275078          0.632000  ...   0.2710  103.013  audio_features   \n",
       "275079          0.000000  ...   0.1190  140.266  audio_features   \n",
       "275080          0.611000  ...   0.0368  112.990  audio_features   \n",
       "\n",
       "                            id                                   uri  \\\n",
       "0       5yrgufPBA1PqSIOHZHrkYa  spotify:track:5yrgufPBA1PqSIOHZHrkYa   \n",
       "1       43Fd2LMelrD0HU01n4g4cw  spotify:track:43Fd2LMelrD0HU01n4g4cw   \n",
       "2       2YYtbzCV6jKwemSv6JoI8R  spotify:track:2YYtbzCV6jKwemSv6JoI8R   \n",
       "3       7jiV2MnieeHtnYqTrXmQHD  spotify:track:7jiV2MnieeHtnYqTrXmQHD   \n",
       "4       2jo3bwXAGhVPL1Uh3dBWiB  spotify:track:2jo3bwXAGhVPL1Uh3dBWiB   \n",
       "...                        ...                                   ...   \n",
       "275076  3vkqxWX7KS7pvEYGqI0z6z  spotify:track:3vkqxWX7KS7pvEYGqI0z6z   \n",
       "275077  3EeivRbcCgxHeZF10n3wpG  spotify:track:3EeivRbcCgxHeZF10n3wpG   \n",
       "275078  6bQ5MVqfN49AaBWZJRjarP  spotify:track:6bQ5MVqfN49AaBWZJRjarP   \n",
       "275079  6iL4Am7n9div8eH9kxmDYS  spotify:track:6iL4Am7n9div8eH9kxmDYS   \n",
       "275080  1EPa4taKL9C7XTKSu5oCCy  spotify:track:1EPa4taKL9C7XTKSu5oCCy   \n",
       "\n",
       "                                               track_href  \\\n",
       "0       https://api.spotify.com/v1/tracks/5yrgufPBA1Pq...   \n",
       "1       https://api.spotify.com/v1/tracks/43Fd2LMelrD0...   \n",
       "2       https://api.spotify.com/v1/tracks/2YYtbzCV6jKw...   \n",
       "3       https://api.spotify.com/v1/tracks/7jiV2MnieeHt...   \n",
       "4       https://api.spotify.com/v1/tracks/2jo3bwXAGhVP...   \n",
       "...                                                   ...   \n",
       "275076  https://api.spotify.com/v1/tracks/3vkqxWX7KS7p...   \n",
       "275077  https://api.spotify.com/v1/tracks/3EeivRbcCgxH...   \n",
       "275078  https://api.spotify.com/v1/tracks/6bQ5MVqfN49A...   \n",
       "275079  https://api.spotify.com/v1/tracks/6iL4Am7n9div...   \n",
       "275080  https://api.spotify.com/v1/tracks/1EPa4taKL9C7...   \n",
       "\n",
       "                                             analysis_url duration_ms  \\\n",
       "0       https://api.spotify.com/v1/audio-analysis/5yrg...      282533   \n",
       "1       https://api.spotify.com/v1/audio-analysis/43Fd...      370347   \n",
       "2       https://api.spotify.com/v1/audio-analysis/2YYt...      133333   \n",
       "3       https://api.spotify.com/v1/audio-analysis/7jiV...      174707   \n",
       "4       https://api.spotify.com/v1/audio-analysis/2jo3...      161773   \n",
       "...                                                   ...         ...   \n",
       "275076  https://api.spotify.com/v1/audio-analysis/3vkq...      228173   \n",
       "275077  https://api.spotify.com/v1/audio-analysis/3Eei...      185111   \n",
       "275078  https://api.spotify.com/v1/audio-analysis/6bQ5...      324320   \n",
       "275079  https://api.spotify.com/v1/audio-analysis/6iL4...      259594   \n",
       "275080  https://api.spotify.com/v1/audio-analysis/1EPa...      204728   \n",
       "\n",
       "        time_signature  cluster  \n",
       "0                    3        4  \n",
       "1                    3        4  \n",
       "2                    4        0  \n",
       "3                    4        3  \n",
       "4                    4        0  \n",
       "...                ...      ...  \n",
       "275076               4        0  \n",
       "275077               5        4  \n",
       "275078               4        6  \n",
       "275079               4        1  \n",
       "275080               4        2  \n",
       "\n",
       "[275081 rows x 21 columns]"
      ]
     },
     "execution_count": 32,
     "metadata": {},
     "output_type": "execute_result"
    }
   ],
   "source": [
    "df_audiofeatures"
   ]
  },
  {
   "cell_type": "code",
   "execution_count": 30,
   "metadata": {},
   "outputs": [
    {
     "name": "stdout",
     "output_type": "stream",
     "text": [
      "artists\n"
     ]
    },
    {
     "ename": "AttributeError",
     "evalue": "'str' object has no attribute 'artist'",
     "output_type": "error",
     "traceback": [
      "\u001b[1;31m---------------------------------------------------------------------------\u001b[0m",
      "\u001b[1;31mAttributeError\u001b[0m                            Traceback (most recent call last)",
      "\u001b[1;32m~\\AppData\\Local\\Temp/ipykernel_14956/2240262473.py\u001b[0m in \u001b[0;36m<module>\u001b[1;34m\u001b[0m\n\u001b[1;32m----> 1\u001b[1;33m \u001b[0mux\u001b[0m\u001b[1;33m.\u001b[0m\u001b[0mask_if_correct_song\u001b[0m\u001b[1;33m(\u001b[0m\u001b[1;34m'The End Is Anguish'\u001b[0m\u001b[1;33m,\u001b[0m\u001b[0mdf_audiofeatures\u001b[0m\u001b[1;33m,\u001b[0m\u001b[1;34m'name'\u001b[0m\u001b[1;33m)\u001b[0m\u001b[1;33m\u001b[0m\u001b[1;33m\u001b[0m\u001b[0m\n\u001b[0m",
      "\u001b[1;32md:\\91 - Code\\10 - Github\\10 - Ironhack\\Song_Recommender\\ux.py\u001b[0m in \u001b[0;36mask_if_correct_song\u001b[1;34m(song, df, column)\u001b[0m\n\u001b[0;32m     25\u001b[0m         \u001b[1;32mfor\u001b[0m \u001b[0mi\u001b[0m \u001b[1;32min\u001b[0m \u001b[0mdf\u001b[0m\u001b[1;33m[\u001b[0m\u001b[0mdf_column\u001b[0m \u001b[1;33m==\u001b[0m \u001b[0msong\u001b[0m\u001b[1;33m]\u001b[0m\u001b[1;33m:\u001b[0m\u001b[1;33m\u001b[0m\u001b[1;33m\u001b[0m\u001b[0m\n\u001b[0;32m     26\u001b[0m             \u001b[0mprint\u001b[0m\u001b[1;33m(\u001b[0m\u001b[0mi\u001b[0m\u001b[1;33m)\u001b[0m\u001b[1;33m\u001b[0m\u001b[1;33m\u001b[0m\u001b[0m\n\u001b[1;32m---> 27\u001b[1;33m             \u001b[0mprint\u001b[0m\u001b[1;33m(\u001b[0m\u001b[0mi\u001b[0m\u001b[1;33m.\u001b[0m\u001b[0martists\u001b[0m\u001b[1;33m)\u001b[0m\u001b[1;33m\u001b[0m\u001b[1;33m\u001b[0m\u001b[0m\n\u001b[0m\u001b[0;32m     28\u001b[0m             \u001b[0muser_input\u001b[0m \u001b[1;33m=\u001b[0m \u001b[0minput\u001b[0m\u001b[1;33m(\u001b[0m\u001b[1;34m'Is the song'\u001b[0m\u001b[1;33m)\u001b[0m\u001b[1;33m\u001b[0m\u001b[1;33m\u001b[0m\u001b[0m\n\u001b[0;32m     29\u001b[0m             \u001b[0mprint\u001b[0m\u001b[1;33m(\u001b[0m\u001b[0muser_input\u001b[0m\u001b[1;33m)\u001b[0m\u001b[1;33m\u001b[0m\u001b[1;33m\u001b[0m\u001b[0m\n",
      "\u001b[1;31mAttributeError\u001b[0m: 'str' object has no attribute 'artist'"
     ]
    }
   ],
   "source": [
    "ux.ask_if_correct_song('The End Is Anguish',df_audiofeatures,'name')"
   ]
  },
  {
   "cell_type": "code",
   "execution_count": null,
   "metadata": {},
   "outputs": [],
   "source": [
    "song = 'Jess'"
   ]
  },
  {
   "cell_type": "code",
   "execution_count": null,
   "metadata": {},
   "outputs": [
    {
     "data": {
      "text/plain": [
       "True"
      ]
     },
     "execution_count": 42,
     "metadata": {},
     "output_type": "execute_result"
    }
   ],
   "source": [
    "song in list(df_audiofeatures.name)"
   ]
  },
  {
   "cell_type": "code",
   "execution_count": null,
   "metadata": {},
   "outputs": [
    {
     "data": {
      "text/html": [
       "<div>\n",
       "<style scoped>\n",
       "    .dataframe tbody tr th:only-of-type {\n",
       "        vertical-align: middle;\n",
       "    }\n",
       "\n",
       "    .dataframe tbody tr th {\n",
       "        vertical-align: top;\n",
       "    }\n",
       "\n",
       "    .dataframe thead th {\n",
       "        text-align: right;\n",
       "    }\n",
       "</style>\n",
       "<table border=\"1\" class=\"dataframe\">\n",
       "  <thead>\n",
       "    <tr style=\"text-align: right;\">\n",
       "      <th></th>\n",
       "      <th>artists</th>\n",
       "      <th>name</th>\n",
       "      <th>danceability</th>\n",
       "      <th>energy</th>\n",
       "      <th>key</th>\n",
       "      <th>loudness</th>\n",
       "      <th>mode</th>\n",
       "      <th>speechiness</th>\n",
       "      <th>acousticness</th>\n",
       "      <th>instrumentalness</th>\n",
       "      <th>...</th>\n",
       "      <th>valence</th>\n",
       "      <th>tempo</th>\n",
       "      <th>type</th>\n",
       "      <th>id</th>\n",
       "      <th>uri</th>\n",
       "      <th>track_href</th>\n",
       "      <th>analysis_url</th>\n",
       "      <th>duration_ms</th>\n",
       "      <th>time_signature</th>\n",
       "      <th>cluster</th>\n",
       "    </tr>\n",
       "  </thead>\n",
       "  <tbody>\n",
       "    <tr>\n",
       "      <th>275078</th>\n",
       "      <td>tstewart</td>\n",
       "      <td>Jess</td>\n",
       "      <td>0.569</td>\n",
       "      <td>0.864</td>\n",
       "      <td>1</td>\n",
       "      <td>-5.716</td>\n",
       "      <td>0</td>\n",
       "      <td>0.0334</td>\n",
       "      <td>0.183</td>\n",
       "      <td>0.632</td>\n",
       "      <td>...</td>\n",
       "      <td>0.271</td>\n",
       "      <td>103.013</td>\n",
       "      <td>audio_features</td>\n",
       "      <td>6bQ5MVqfN49AaBWZJRjarP</td>\n",
       "      <td>spotify:track:6bQ5MVqfN49AaBWZJRjarP</td>\n",
       "      <td>https://api.spotify.com/v1/tracks/6bQ5MVqfN49A...</td>\n",
       "      <td>https://api.spotify.com/v1/audio-analysis/6bQ5...</td>\n",
       "      <td>324320</td>\n",
       "      <td>4</td>\n",
       "      <td>6</td>\n",
       "    </tr>\n",
       "  </tbody>\n",
       "</table>\n",
       "<p>1 rows × 21 columns</p>\n",
       "</div>"
      ],
      "text/plain": [
       "         artists  name  danceability  energy  key  loudness  mode  \\\n",
       "275078  tstewart  Jess         0.569   0.864    1    -5.716     0   \n",
       "\n",
       "        speechiness  acousticness  instrumentalness  ...  valence    tempo  \\\n",
       "275078       0.0334         0.183             0.632  ...    0.271  103.013   \n",
       "\n",
       "                  type                      id  \\\n",
       "275078  audio_features  6bQ5MVqfN49AaBWZJRjarP   \n",
       "\n",
       "                                         uri  \\\n",
       "275078  spotify:track:6bQ5MVqfN49AaBWZJRjarP   \n",
       "\n",
       "                                               track_href  \\\n",
       "275078  https://api.spotify.com/v1/tracks/6bQ5MVqfN49A...   \n",
       "\n",
       "                                             analysis_url duration_ms  \\\n",
       "275078  https://api.spotify.com/v1/audio-analysis/6bQ5...      324320   \n",
       "\n",
       "        time_signature  cluster  \n",
       "275078               4        6  \n",
       "\n",
       "[1 rows x 21 columns]"
      ]
     },
     "execution_count": 41,
     "metadata": {},
     "output_type": "execute_result"
    }
   ],
   "source": [
    "df_audiofeatures[df_audiofeatures.name == song]"
   ]
  },
  {
   "cell_type": "code",
   "execution_count": null,
   "metadata": {},
   "outputs": [
    {
     "data": {
      "text/plain": [
       "pandas.core.series.Series"
      ]
     },
     "execution_count": 39,
     "metadata": {},
     "output_type": "execute_result"
    }
   ],
   "source": [
    "type(df_audiofeatures.name)"
   ]
  },
  {
   "cell_type": "code",
   "execution_count": null,
   "metadata": {},
   "outputs": [],
   "source": [
    "song = song.lower()"
   ]
  },
  {
   "cell_type": "code",
   "execution_count": null,
   "metadata": {},
   "outputs": [
    {
     "data": {
      "text/plain": [
       "'the end is anguish'"
      ]
     },
     "execution_count": 50,
     "metadata": {},
     "output_type": "execute_result"
    }
   ],
   "source": [
    "song"
   ]
  },
  {
   "cell_type": "code",
   "execution_count": null,
   "metadata": {},
   "outputs": [],
   "source": []
  }
 ],
 "metadata": {
  "interpreter": {
   "hash": "bfcfd5de7629ab692414048eb27291efd7d2258e9194efee115e7dde625bb37e"
  },
  "kernelspec": {
   "display_name": "Python 3.9.6 64-bit ('DA_Env': conda)",
   "language": "python",
   "name": "python3"
  },
  "language_info": {
   "codemirror_mode": {
    "name": "ipython",
    "version": 3
   },
   "file_extension": ".py",
   "mimetype": "text/x-python",
   "name": "python",
   "nbconvert_exporter": "python",
   "pygments_lexer": "ipython3",
   "version": "3.9.6"
  },
  "orig_nbformat": 4
 },
 "nbformat": 4,
 "nbformat_minor": 2
}
